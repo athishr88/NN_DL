{
  "nbformat": 4,
  "nbformat_minor": 0,
  "metadata": {
    "colab": {
      "name": "LA3_part2.ipynb",
      "provenance": [],
      "collapsed_sections": [],
      "authorship_tag": "ABX9TyM9CdW+ObnLDKIZnFyoTL8k",
      "include_colab_link": true
    },
    "kernelspec": {
      "name": "python3",
      "display_name": "Python 3"
    },
    "language_info": {
      "name": "python"
    }
  },
  "cells": [
    {
      "cell_type": "markdown",
      "metadata": {
        "id": "view-in-github",
        "colab_type": "text"
      },
      "source": [
        "<a href=\"https://colab.research.google.com/github/athishr88/NN_DL/blob/main/LA3/LA3_part2.ipynb\" target=\"_parent\"><img src=\"https://colab.research.google.com/assets/colab-badge.svg\" alt=\"Open In Colab\"/></a>"
      ]
    },
    {
      "cell_type": "code",
      "execution_count": 1,
      "metadata": {
        "colab": {
          "base_uri": "https://localhost:8080/"
        },
        "id": "dQ1DDTMBbfHx",
        "outputId": "0d08faaa-7109-47c9-f47d-790f76ba71d8"
      },
      "outputs": [
        {
          "output_type": "stream",
          "name": "stderr",
          "text": [
            "Using custom data configuration default\n"
          ]
        }
      ],
      "source": [
        "# Imports and dataset loading\n",
        "\n",
        "import nlp\n",
        "\n",
        "dataset = nlp.load_dataset('emotion')\n",
        "train = dataset['train']\n",
        "val = dataset['validation']\n",
        "test = dataset['test']"
      ]
    },
    {
      "cell_type": "code",
      "source": [
        "## Prepare input and output pairs for train dataset\n",
        "import numpy as np\n",
        "\n",
        "train_samples = [x['text'] for x in train]\n",
        "train_labels = [x['label'] for x in train]\n",
        "\n",
        "## Convert each label in the output to a unique integer\n",
        "classes = list(set(train_labels))\n",
        "class_to_index = dict((c,i) for i, c in enumerate(classes))\n",
        "names_to_ids = lambda labels: np.array([class_to_index.get(x) for x in labels])\n",
        "\n",
        "## Convert the train labels to corresponding int values\n",
        "train_labels = names_to_ids(train_labels)"
      ],
      "metadata": {
        "id": "fTEYoZV1bjyB"
      },
      "execution_count": 2,
      "outputs": []
    },
    {
      "cell_type": "code",
      "source": [
        "## Prep the val dataset\n",
        "val_samples = [x['text'] for x in val]\n",
        "val_labels = [x['label'] for x in val]\n",
        "val_labels = names_to_ids(val_labels)\n",
        "\n",
        "# Prep the test dataset\n",
        "test_samples = [x['text'] for x in test]\n",
        "test_labels = [x['label'] for x in test]\n",
        "test_labels = names_to_ids(test_labels)"
      ],
      "metadata": {
        "id": "8IojvrOsbx1T"
      },
      "execution_count": 3,
      "outputs": []
    },
    {
      "cell_type": "code",
      "source": [
        "## Create our Text Vectorizer to index our vocabulary based on the train samples \n",
        "from keras.layers import TextVectorization\n",
        "import tensorflow as tf\n",
        "\n",
        "vectorizer = TextVectorization(max_tokens=10000, output_sequence_length=100)\n",
        "text_ds = tf.data.Dataset.from_tensor_slices(train_samples).batch(128) ## Read batches of 128 samples\n",
        "vectorizer.adapt(text_ds)"
      ],
      "metadata": {
        "id": "A3AXJeO6b2Z0"
      },
      "execution_count": 4,
      "outputs": []
    },
    {
      "cell_type": "code",
      "source": [
        "## Print out top five words in the vocab\n",
        "print(len(vectorizer.get_vocabulary())) ## We set max_tokens=10000\n",
        "vectorizer.get_vocabulary()[:5]"
      ],
      "metadata": {
        "colab": {
          "base_uri": "https://localhost:8080/"
        },
        "id": "8KVz3WvEb253",
        "outputId": "ff7a0239-5cb1-45e4-90b3-e6948b6f74a5"
      },
      "execution_count": 5,
      "outputs": [
        {
          "output_type": "stream",
          "name": "stdout",
          "text": [
            "10000\n"
          ]
        },
        {
          "output_type": "execute_result",
          "data": {
            "text/plain": [
              "['', '[UNK]', 'i', 'feel', 'and']"
            ]
          },
          "metadata": {},
          "execution_count": 5
        }
      ]
    },
    {
      "cell_type": "code",
      "source": [
        "## Create a map to get the unique list of the vocabulary\n",
        "voc = vectorizer.get_vocabulary()\n",
        "word_index = dict(zip(voc, range(len(voc))))"
      ],
      "metadata": {
        "id": "X8jTHxjsb6eL"
      },
      "execution_count": 6,
      "outputs": []
    },
    {
      "cell_type": "code",
      "source": [
        "## Vectorize our data (Convert the string data to integer data)\n",
        "x_train = vectorizer(np.array([[s] for s in train_samples])).numpy()\n",
        "x_val = vectorizer(np.array([[s] for s in val_samples])).numpy()\n",
        "x_test = vectorizer(np.array([[s] for s in test_samples])).numpy()\n",
        "\n",
        "y_train = np.array(train_labels)\n",
        "y_val = np.array(val_labels)\n",
        "y_test = np.array(test_labels)"
      ],
      "metadata": {
        "id": "iNyuPeGib8vf"
      },
      "execution_count": 7,
      "outputs": []
    },
    {
      "cell_type": "code",
      "source": [
        "# ## Download and unzip the Stanford GloVe model (pretrained word embeddings)AA\n",
        "# !wget http://nlp.stanford.edu/data/glove.6B.zip\n",
        "# !unzip -q glove.6B.zip"
      ],
      "metadata": {
        "id": "3VUEILPZcEUv"
      },
      "execution_count": 8,
      "outputs": []
    },
    {
      "cell_type": "code",
      "source": [
        "!pip install --upgrade gensim"
      ],
      "metadata": {
        "colab": {
          "base_uri": "https://localhost:8080/"
        },
        "id": "97f4KeofcIBA",
        "outputId": "6da5ce35-478e-40e5-835f-d8f97b6588ac"
      },
      "execution_count": 9,
      "outputs": [
        {
          "output_type": "stream",
          "name": "stdout",
          "text": [
            "Requirement already satisfied: gensim in /usr/local/lib/python3.7/dist-packages (4.1.2)\n",
            "Requirement already satisfied: numpy>=1.17.0 in /usr/local/lib/python3.7/dist-packages (from gensim) (1.21.5)\n",
            "Requirement already satisfied: scipy>=0.18.1 in /usr/local/lib/python3.7/dist-packages (from gensim) (1.4.1)\n",
            "Requirement already satisfied: smart-open>=1.8.1 in /usr/local/lib/python3.7/dist-packages (from gensim) (5.2.1)\n"
          ]
        }
      ]
    },
    {
      "cell_type": "code",
      "source": [
        "from gensim.scripts.glove2word2vec import glove2word2vec\n",
        "glove_input_file = 'glove.6B.100d.txt'\n",
        "word2vec_output_file = 'glove.6B.100d.txt.word2vec'\n",
        "glove2word2vec(glove_input_file, word2vec_output_file)"
      ],
      "metadata": {
        "colab": {
          "base_uri": "https://localhost:8080/"
        },
        "id": "xgMW3KSOiX6E",
        "outputId": "b5d752d1-5261-4fd2-8cc4-3fac46289e46"
      },
      "execution_count": 10,
      "outputs": [
        {
          "output_type": "stream",
          "name": "stderr",
          "text": [
            "/usr/local/lib/python3.7/dist-packages/ipykernel_launcher.py:4: DeprecationWarning: Call to deprecated `glove2word2vec` (KeyedVectors.load_word2vec_format(.., binary=False, no_header=True) loads GLoVE text vectors.).\n",
            "  after removing the cwd from sys.path.\n"
          ]
        },
        {
          "output_type": "execute_result",
          "data": {
            "text/plain": [
              "(400000, 100)"
            ]
          },
          "metadata": {},
          "execution_count": 10
        }
      ]
    },
    {
      "cell_type": "code",
      "source": [
        "## Read the embeddings in the pretrained glove model \n",
        "import os\n",
        "path_to_glove_file = \"glove.6B.100d.txt\"\n",
        "\n",
        "embeddings_index_glove = {}\n",
        "with open(path_to_glove_file) as f:\n",
        "    for line in f:\n",
        "        word, coefs = line.split(maxsplit=1)\n",
        "        coefs = np.fromstring(coefs, \"f\", sep=\" \")\n",
        "        embeddings_index_glove[word] = coefs\n",
        "\n",
        "print(\"Found %s word vectors.\" % len(embeddings_index_glove))"
      ],
      "metadata": {
        "colab": {
          "base_uri": "https://localhost:8080/"
        },
        "id": "3xpGDjC2icaQ",
        "outputId": "d7620fc7-04ae-4c3d-d323-1f4429f92051"
      },
      "execution_count": 11,
      "outputs": [
        {
          "output_type": "stream",
          "name": "stdout",
          "text": [
            "Found 400000 word vectors.\n"
          ]
        }
      ]
    },
    {
      "cell_type": "code",
      "source": [
        "## Read the embeddings in the pretrained w2v model \n",
        "import os\n",
        "path_to_w2v_file = 'glove.6B.100d.txt.word2vec'\n",
        "\n",
        "embeddings_index_w2v = {}\n",
        "with open(path_to_w2v_file) as f:\n",
        "    for line in f:\n",
        "        word, coefs = line.split(maxsplit=1)\n",
        "        coefs = np.fromstring(coefs, \"f\", sep=\" \")\n",
        "        embeddings_index_w2v[word] = coefs\n",
        "\n",
        "print(\"Found %s word vectors.\" % len(embeddings_index_w2v))"
      ],
      "metadata": {
        "colab": {
          "base_uri": "https://localhost:8080/"
        },
        "id": "dEa_Vu-hi20w",
        "outputId": "a6adbf6b-597e-4b5e-f9f1-6bdde048a222"
      },
      "execution_count": 12,
      "outputs": [
        {
          "output_type": "stream",
          "name": "stdout",
          "text": [
            "Found 400001 word vectors.\n"
          ]
        }
      ]
    },
    {
      "cell_type": "code",
      "source": [
        "## Create \"embedding_matrix\" to index our vocabulary using the GloVe model \n",
        "num_tokens = len(voc) \n",
        "embedding_dim = 100 ## 100 dimensions\n",
        "hits = 0 ## number of words that were found in the pretrained model\n",
        "misses = 0 ## number of words that were missing in the pretrained model\n",
        "\n",
        "# Prepare embedding matrix for our word list\n",
        "embedding_matrix_glove = np.zeros((num_tokens, embedding_dim))\n",
        "for word, i in word_index.items():\n",
        "    embedding_vector = embeddings_index_glove.get(word)\n",
        "    if embedding_vector is not None:\n",
        "        # Words not found in embedding index will be all-zeros.\n",
        "        # This includes the representation for \"padding\" and \"OOV\"\n",
        "        embedding_matrix_glove[i] = embedding_vector\n",
        "        hits += 1\n",
        "    else:\n",
        "        misses += 1\n",
        "print(\"Converted %d words (%d misses)\" % (hits, misses))"
      ],
      "metadata": {
        "colab": {
          "base_uri": "https://localhost:8080/"
        },
        "id": "wkwOGCEejcRc",
        "outputId": "2c5e6089-e189-42ea-cf93-96ce774bef30"
      },
      "execution_count": 13,
      "outputs": [
        {
          "output_type": "stream",
          "name": "stdout",
          "text": [
            "Converted 9627 words (373 misses)\n"
          ]
        }
      ]
    },
    {
      "cell_type": "code",
      "source": [
        "## Create \"embedding_matrix\" to index our vocabulary using the w2v model \n",
        "num_tokens = len(voc) \n",
        "embedding_dim = 100 ## 100 dimensions\n",
        "hits = 0 ## number of words that were found in the pretrained model\n",
        "misses = 0 ## number of words that were missing in the pretrained model\n",
        "\n",
        "# Prepare embedding matrix for our word list\n",
        "embedding_matrix_w2v = np.zeros((num_tokens, embedding_dim))\n",
        "for word, i in word_index.items():\n",
        "    embedding_vector = embeddings_index_w2v.get(word)\n",
        "    if embedding_vector is not None:\n",
        "        # Words not found in embedding index will be all-zeros.\n",
        "        # This includes the representation for \"padding\" and \"OOV\"\n",
        "        embedding_matrix_w2v[i] = embedding_vector\n",
        "        hits += 1\n",
        "    else:\n",
        "        misses += 1\n",
        "print(\"Converted %d words (%d misses)\" % (hits, misses))"
      ],
      "metadata": {
        "colab": {
          "base_uri": "https://localhost:8080/"
        },
        "id": "PAiayGzYkYQs",
        "outputId": "b91256a0-f177-4f92-ed2b-95d5b1002218"
      },
      "execution_count": 14,
      "outputs": [
        {
          "output_type": "stream",
          "name": "stdout",
          "text": [
            "Converted 9627 words (373 misses)\n"
          ]
        }
      ]
    },
    {
      "cell_type": "code",
      "source": [
        "## Define our embedding layer for the training model \n",
        "## We load our embedding_matrix as the initializer and set trainable to False to avoid retraining this layer\n",
        "\n",
        "from keras.layers import Embedding\n",
        "from keras.initializers import Constant\n",
        "\n",
        "embedding_layer_glove = Embedding(num_tokens, embedding_dim,\n",
        "                            embeddings_initializer= Constant(embedding_matrix_glove), \n",
        "                            trainable=False,\n",
        ")\n",
        "\n",
        "embedding_layer_w2v = Embedding(num_tokens, embedding_dim,\n",
        "                            embeddings_initializer= Constant(embedding_matrix_w2v), \n",
        "                            trainable=False,\n",
        ")\n"
      ],
      "metadata": {
        "id": "z14gPhCTkhhd"
      },
      "execution_count": 15,
      "outputs": []
    },
    {
      "cell_type": "code",
      "source": [
        "# Training different models\n",
        "from keras.layers import SimpleRNN, GRU, LSTM\n",
        "import matplotlib.pyplot as plt\n",
        "from keras.metrics import Precision, Recall\n",
        "from keras import layers, Input, Model\n",
        "from sklearn.metrics import confusion_matrix\n",
        "from sklearn import metrics\n",
        "import seaborn as sns\n",
        "\n",
        "methods_list = ['glove', 'w2v']\n",
        "\n",
        "for method in methods_list:\n",
        "  int_sequences_input = Input(shape=(None,), dtype=\"int64\")\n",
        "  \n",
        "  if method == 'glove':\n",
        "    embedded_sequences = embedding_layer_glove(int_sequences_input)\n",
        "  else:\n",
        "    embedded_sequences = embedding_layer_w2v(int_sequences_input)\n",
        "\n",
        "  x = layers.Bidirectional(layers.LSTM(20, return_sequences=True))(embedded_sequences)\n",
        "  x = layers.Bidirectional(layers.LSTM(20))(x)\n",
        "  preds = layers.Dense(len(classes), activation=\"softmax\")(x)\n",
        "  model = Model(int_sequences_input, preds)\n",
        "  print(f\"Embedding used: {method}\")\n",
        "  model.summary()\n",
        "  ## Train the model \n",
        "  model.compile(loss=\"sparse_categorical_crossentropy\", optimizer=\"adam\", metrics=[\"acc\"])\n",
        "  model.fit(x_train, y_train, batch_size=128, epochs=20, validation_data=(x_val, y_val), verbose=1)\n",
        "  \n",
        "  # Test\n",
        "  y_test_pred = model.predict(x_test)\n",
        "  y_test_pred_labels = np.argmax(y_test_pred, axis=1)\n",
        "\n",
        "  # Overall Precision\n",
        "  print(metrics.classification_report(y_test, y_test_pred_labels))\n",
        "  mat = confusion_matrix(y_test, y_test_pred_labels)\n",
        "  plt.figure()\n",
        "  sns.heatmap(mat.T, square = True, annot = True, fmt = 'd', cbar = False)\n",
        "  plt.xlabel(\"True Label\")\n",
        "  plt.ylabel(\"Predicted Label\")\n",
        "  plt.show()"
      ],
      "metadata": {
        "colab": {
          "base_uri": "https://localhost:8080/",
          "height": 1000
        },
        "id": "fJuSS-pNky8A",
        "outputId": "db654eb0-a7e7-4ca4-ce0b-d3bf4e16b6f4"
      },
      "execution_count": 17,
      "outputs": [
        {
          "output_type": "stream",
          "name": "stdout",
          "text": [
            "Embedding used: glove\n",
            "Model: \"model_2\"\n",
            "_________________________________________________________________\n",
            " Layer (type)                Output Shape              Param #   \n",
            "=================================================================\n",
            " input_3 (InputLayer)        [(None, None)]            0         \n",
            "                                                                 \n",
            " embedding (Embedding)       (None, None, 100)         1000000   \n",
            "                                                                 \n",
            " bidirectional_4 (Bidirectio  (None, None, 40)         19360     \n",
            " nal)                                                            \n",
            "                                                                 \n",
            " bidirectional_5 (Bidirectio  (None, 40)               9760      \n",
            " nal)                                                            \n",
            "                                                                 \n",
            " dense_2 (Dense)             (None, 6)                 246       \n",
            "                                                                 \n",
            "=================================================================\n",
            "Total params: 1,029,366\n",
            "Trainable params: 29,366\n",
            "Non-trainable params: 1,000,000\n",
            "_________________________________________________________________\n",
            "Epoch 1/20\n",
            "125/125 [==============================] - 32s 198ms/step - loss: 1.5434 - acc: 0.4017 - val_loss: 1.4366 - val_acc: 0.4815\n",
            "Epoch 2/20\n",
            "125/125 [==============================] - 22s 174ms/step - loss: 1.2901 - acc: 0.5261 - val_loss: 1.1769 - val_acc: 0.5600\n",
            "Epoch 3/20\n",
            "125/125 [==============================] - 22s 176ms/step - loss: 1.0880 - acc: 0.6000 - val_loss: 0.9553 - val_acc: 0.6575\n",
            "Epoch 4/20\n",
            "125/125 [==============================] - 26s 208ms/step - loss: 0.8951 - acc: 0.6782 - val_loss: 0.8120 - val_acc: 0.7070\n",
            "Epoch 5/20\n",
            "125/125 [==============================] - 22s 176ms/step - loss: 0.7631 - acc: 0.7309 - val_loss: 0.6886 - val_acc: 0.7580\n",
            "Epoch 6/20\n",
            "125/125 [==============================] - 22s 176ms/step - loss: 0.6529 - acc: 0.7726 - val_loss: 0.6084 - val_acc: 0.7940\n",
            "Epoch 7/20\n",
            "125/125 [==============================] - 22s 178ms/step - loss: 0.5482 - acc: 0.8152 - val_loss: 0.5235 - val_acc: 0.8210\n",
            "Epoch 8/20\n",
            "125/125 [==============================] - 22s 178ms/step - loss: 0.4710 - acc: 0.8416 - val_loss: 0.4538 - val_acc: 0.8490\n",
            "Epoch 9/20\n",
            "125/125 [==============================] - 22s 177ms/step - loss: 0.4267 - acc: 0.8567 - val_loss: 0.4082 - val_acc: 0.8675\n",
            "Epoch 10/20\n",
            "125/125 [==============================] - 22s 178ms/step - loss: 0.3833 - acc: 0.8696 - val_loss: 0.4025 - val_acc: 0.8670\n",
            "Epoch 11/20\n",
            "125/125 [==============================] - 22s 176ms/step - loss: 0.3497 - acc: 0.8816 - val_loss: 0.3794 - val_acc: 0.8720\n",
            "Epoch 12/20\n",
            "125/125 [==============================] - 22s 176ms/step - loss: 0.3221 - acc: 0.8882 - val_loss: 0.3478 - val_acc: 0.8840\n",
            "Epoch 13/20\n",
            "125/125 [==============================] - 22s 176ms/step - loss: 0.2903 - acc: 0.8990 - val_loss: 0.3476 - val_acc: 0.8810\n",
            "Epoch 14/20\n",
            "125/125 [==============================] - 22s 176ms/step - loss: 0.2685 - acc: 0.9066 - val_loss: 0.3148 - val_acc: 0.8905\n",
            "Epoch 15/20\n",
            "125/125 [==============================] - 22s 177ms/step - loss: 0.2506 - acc: 0.9105 - val_loss: 0.3121 - val_acc: 0.8925\n",
            "Epoch 16/20\n",
            "125/125 [==============================] - 22s 176ms/step - loss: 0.2342 - acc: 0.9125 - val_loss: 0.2979 - val_acc: 0.8895\n",
            "Epoch 17/20\n",
            "125/125 [==============================] - 22s 176ms/step - loss: 0.2126 - acc: 0.9224 - val_loss: 0.2891 - val_acc: 0.8970\n",
            "Epoch 18/20\n",
            "125/125 [==============================] - 22s 176ms/step - loss: 0.1998 - acc: 0.9256 - val_loss: 0.2864 - val_acc: 0.8960\n",
            "Epoch 19/20\n",
            "125/125 [==============================] - 22s 179ms/step - loss: 0.2023 - acc: 0.9240 - val_loss: 0.2808 - val_acc: 0.9005\n",
            "Epoch 20/20\n",
            "125/125 [==============================] - 22s 176ms/step - loss: 0.1789 - acc: 0.9322 - val_loss: 0.2618 - val_acc: 0.9075\n",
            "              precision    recall  f1-score   support\n",
            "\n",
            "           0       0.86      0.85      0.86       224\n",
            "           1       0.69      0.71      0.70        66\n",
            "           2       0.74      0.81      0.77       159\n",
            "           3       0.92      0.92      0.92       695\n",
            "           4       0.88      0.92      0.90       275\n",
            "           5       0.96      0.92      0.94       581\n",
            "\n",
            "    accuracy                           0.90      2000\n",
            "   macro avg       0.84      0.86      0.85      2000\n",
            "weighted avg       0.90      0.90      0.90      2000\n",
            "\n"
          ]
        },
        {
          "output_type": "display_data",
          "data": {
            "image/png": "[encoded data removed]",
            "text/plain": [
              "<Figure size 432x288 with 1 Axes>"
            ]
          },
          "metadata": {
            "needs_background": "light"
          }
        },
        {
          "output_type": "stream",
          "name": "stdout",
          "text": [
            "Embedding used: w2v\n",
            "Model: \"model_3\"\n",
            "_________________________________________________________________\n",
            " Layer (type)                Output Shape              Param #   \n",
            "=================================================================\n",
            " input_4 (InputLayer)        [(None, None)]            0         \n",
            "                                                                 \n",
            " embedding_1 (Embedding)     (None, None, 100)         1000000   \n",
            "                                                                 \n",
            " bidirectional_6 (Bidirectio  (None, None, 40)         19360     \n",
            " nal)                                                            \n",
            "                                                                 \n",
            " bidirectional_7 (Bidirectio  (None, 40)               9760      \n",
            " nal)                                                            \n",
            "                                                                 \n",
            " dense_3 (Dense)             (None, 6)                 246       \n",
            "                                                                 \n",
            "=================================================================\n",
            "Total params: 1,029,366\n",
            "Trainable params: 29,366\n",
            "Non-trainable params: 1,000,000\n",
            "_________________________________________________________________\n",
            "Epoch 1/20\n",
            "125/125 [==============================] - 30s 188ms/step - loss: 1.5492 - acc: 0.3767 - val_loss: 1.3972 - val_acc: 0.4895\n",
            "Epoch 2/20\n",
            "125/125 [==============================] - 22s 173ms/step - loss: 1.3214 - acc: 0.5024 - val_loss: 1.2291 - val_acc: 0.5425\n",
            "Epoch 3/20\n",
            "125/125 [==============================] - 22s 175ms/step - loss: 1.1390 - acc: 0.5599 - val_loss: 1.0061 - val_acc: 0.6130\n",
            "Epoch 4/20\n",
            "125/125 [==============================] - 22s 176ms/step - loss: 0.9314 - acc: 0.6553 - val_loss: 0.8590 - val_acc: 0.6960\n",
            "Epoch 5/20\n",
            "125/125 [==============================] - 22s 173ms/step - loss: 0.7727 - acc: 0.7232 - val_loss: 0.7140 - val_acc: 0.7555\n",
            "Epoch 6/20\n",
            "125/125 [==============================] - 22s 174ms/step - loss: 0.6514 - acc: 0.7762 - val_loss: 0.5974 - val_acc: 0.8015\n",
            "Epoch 7/20\n",
            "125/125 [==============================] - 22s 178ms/step - loss: 0.5622 - acc: 0.8087 - val_loss: 0.5307 - val_acc: 0.8140\n",
            "Epoch 8/20\n",
            "125/125 [==============================] - 22s 177ms/step - loss: 0.4988 - acc: 0.8300 - val_loss: 0.4742 - val_acc: 0.8395\n",
            "Epoch 9/20\n",
            "125/125 [==============================] - 26s 207ms/step - loss: 0.4418 - acc: 0.8476 - val_loss: 0.4597 - val_acc: 0.8450\n",
            "Epoch 10/20\n",
            "125/125 [==============================] - 22s 177ms/step - loss: 0.3884 - acc: 0.8669 - val_loss: 0.4311 - val_acc: 0.8535\n",
            "Epoch 11/20\n",
            "125/125 [==============================] - 22s 176ms/step - loss: 0.3556 - acc: 0.8739 - val_loss: 0.3778 - val_acc: 0.8650\n",
            "Epoch 12/20\n",
            "125/125 [==============================] - 22s 177ms/step - loss: 0.3213 - acc: 0.8834 - val_loss: 0.3740 - val_acc: 0.8660\n",
            "Epoch 13/20\n",
            "125/125 [==============================] - 22s 177ms/step - loss: 0.2897 - acc: 0.8934 - val_loss: 0.3505 - val_acc: 0.8750\n",
            "Epoch 14/20\n",
            "125/125 [==============================] - 22s 179ms/step - loss: 0.2716 - acc: 0.9016 - val_loss: 0.3361 - val_acc: 0.8810\n",
            "Epoch 15/20\n",
            "125/125 [==============================] - 22s 179ms/step - loss: 0.2468 - acc: 0.9074 - val_loss: 0.3782 - val_acc: 0.8710\n",
            "Epoch 16/20\n",
            "125/125 [==============================] - 23s 181ms/step - loss: 0.2328 - acc: 0.9134 - val_loss: 0.3135 - val_acc: 0.8865\n",
            "Epoch 17/20\n",
            "125/125 [==============================] - 22s 179ms/step - loss: 0.2289 - acc: 0.9139 - val_loss: 0.3101 - val_acc: 0.8855\n",
            "Epoch 18/20\n",
            "125/125 [==============================] - 22s 180ms/step - loss: 0.2042 - acc: 0.9238 - val_loss: 0.3063 - val_acc: 0.8930\n",
            "Epoch 19/20\n",
            "125/125 [==============================] - 22s 179ms/step - loss: 0.2406 - acc: 0.9118 - val_loss: 0.3244 - val_acc: 0.8905\n",
            "Epoch 20/20\n",
            "125/125 [==============================] - 23s 181ms/step - loss: 0.1849 - acc: 0.9289 - val_loss: 0.2813 - val_acc: 0.8995\n",
            "              precision    recall  f1-score   support\n",
            "\n",
            "           0       0.88      0.83      0.86       224\n",
            "           1       0.67      0.76      0.71        66\n",
            "           2       0.85      0.69      0.76       159\n",
            "           3       0.90      0.94      0.92       695\n",
            "           4       0.89      0.92      0.90       275\n",
            "           5       0.93      0.93      0.93       581\n",
            "\n",
            "    accuracy                           0.90      2000\n",
            "   macro avg       0.85      0.84      0.85      2000\n",
            "weighted avg       0.90      0.90      0.89      2000\n",
            "\n"
          ]
        },
        {
          "output_type": "display_data",
          "data": {
            "image/png": "[encoded data removed]",
            "text/plain": [
              "<Figure size 432x288 with 1 Axes>"
            ]
          },
          "metadata": {
            "needs_background": "light"
          }
        }
      ]
    },
    {
      "cell_type": "code",
      "source": [
        ""
      ],
      "metadata": {
        "id": "HsVD8GPZmMxB"
      },
      "execution_count": null,
      "outputs": []
    }
  ]
}