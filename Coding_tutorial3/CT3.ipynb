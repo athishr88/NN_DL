{
 "cells": [
  {
   "cell_type": "code",
   "execution_count": 5,
   "id": "60168860",
   "metadata": {},
   "outputs": [],
   "source": [
    "import warnings\n",
    "warnings.filterwarnings('ignore')\n"
   ]
  },
  {
   "cell_type": "code",
   "execution_count": 8,
   "id": "8903f8cf",
   "metadata": {},
   "outputs": [
    {
     "name": "stdout",
     "output_type": "stream",
     "text": [
      "Downloading data from https://storage.googleapis.com/tensorflow/tf-keras-datasets/mnist.npz\n",
      "11493376/11490434 [==============================] - 1s 0us/step\n"
     ]
    }
   ],
   "source": [
    "#2. Import dataset\n",
    "from keras.datasets import mnist\n",
    "(X_train, y_train), (X_test, y_test) = mnist.load_data()"
   ]
  },
  {
   "cell_type": "code",
   "execution_count": 9,
   "id": "bf30affc",
   "metadata": {},
   "outputs": [
    {
     "data": {
      "text/plain": [
       "(28, 28)"
      ]
     },
     "execution_count": 9,
     "metadata": {},
     "output_type": "execute_result"
    }
   ],
   "source": [
    "#3. Check image shape\n",
    "X_train[0].shape"
   ]
  },
  {
   "cell_type": "code",
   "execution_count": 10,
   "id": "1396fac5",
   "metadata": {},
   "outputs": [
    {
     "data": {
      "text/plain": [
       "array([0., 0., 0., 0., 0., 1., 0., 0., 0., 0.], dtype=float32)"
      ]
     },
     "execution_count": 10,
     "metadata": {},
     "output_type": "execute_result"
    }
   ],
   "source": [
    "#4. Data pre-processing\n",
    "\n",
    "# reshape data to fit the model\n",
    "X_train = X_train.reshape(X_train.shape[0], 28, 28, 1)\n",
    "X_test = X_test.reshape(X_test.shape[0], 28, 28, 1)\n",
    "\n",
    "from tensorflow.keras.utils import to_categorical\n",
    "\n",
    "y_train = to_categorical(y_train)\n",
    "y_test = to_categorical(y_test)\n",
    "\n",
    "# Inspect what the one-hot encoding looks like for the first value\n",
    "y_train[0]"
   ]
  },
  {
   "cell_type": "code",
   "execution_count": 11,
   "id": "bdb47647",
   "metadata": {},
   "outputs": [
    {
     "name": "stdout",
     "output_type": "stream",
     "text": [
      "Model: \"sequential\"\n",
      "_________________________________________________________________\n",
      "Layer (type)                 Output Shape              Param #   \n",
      "=================================================================\n",
      "conv2d (Conv2D)              (None, 28, 28, 64)        640       \n",
      "_________________________________________________________________\n",
      "max_pooling2d (MaxPooling2D) (None, 14, 14, 64)        0         \n",
      "_________________________________________________________________\n",
      "conv2d_1 (Conv2D)            (None, 7, 7, 32)          18464     \n",
      "_________________________________________________________________\n",
      "max_pooling2d_1 (MaxPooling2 (None, 3, 3, 32)          0         \n",
      "_________________________________________________________________\n",
      "flatten (Flatten)            (None, 288)               0         \n",
      "_________________________________________________________________\n",
      "dense (Dense)                (None, 10)                2890      \n",
      "=================================================================\n",
      "Total params: 21,994\n",
      "Trainable params: 21,994\n",
      "Non-trainable params: 0\n",
      "_________________________________________________________________\n"
     ]
    },
    {
     "name": "stderr",
     "output_type": "stream",
     "text": [
      "2022-02-12 19:44:26.334973: I tensorflow/compiler/jit/xla_cpu_device.cc:41] Not creating XLA devices, tf_xla_enable_xla_devices not set\n",
      "2022-02-12 19:44:26.335108: I tensorflow/stream_executor/cuda/cuda_gpu_executor.cc:941] successful NUMA node read from SysFS had negative value (-1), but there must be at least one NUMA node, so returning NUMA node zero\n",
      "2022-02-12 19:44:26.335372: I tensorflow/core/common_runtime/gpu/gpu_device.cc:1720] Found device 0 with properties: \n",
      "pciBusID: 0000:01:00.0 name: NVIDIA GeForce GTX 1050 Ti computeCapability: 6.1\n",
      "coreClock: 1.62GHz coreCount: 6 deviceMemorySize: 3.95GiB deviceMemoryBandwidth: 104.43GiB/s\n",
      "2022-02-12 19:44:26.335394: I tensorflow/stream_executor/platform/default/dso_loader.cc:49] Successfully opened dynamic library libcudart.so.10.1\n",
      "2022-02-12 19:44:26.335412: I tensorflow/stream_executor/platform/default/dso_loader.cc:49] Successfully opened dynamic library libcublas.so.10\n",
      "2022-02-12 19:44:26.335423: I tensorflow/stream_executor/platform/default/dso_loader.cc:49] Successfully opened dynamic library libcublasLt.so.10\n",
      "2022-02-12 19:44:26.335434: I tensorflow/stream_executor/platform/default/dso_loader.cc:49] Successfully opened dynamic library libcufft.so.10\n",
      "2022-02-12 19:44:26.335444: I tensorflow/stream_executor/platform/default/dso_loader.cc:49] Successfully opened dynamic library libcurand.so.10\n",
      "2022-02-12 19:44:26.335454: I tensorflow/stream_executor/platform/default/dso_loader.cc:49] Successfully opened dynamic library libcusolver.so.10\n",
      "2022-02-12 19:44:26.335465: I tensorflow/stream_executor/platform/default/dso_loader.cc:49] Successfully opened dynamic library libcusparse.so.10\n",
      "2022-02-12 19:44:26.335475: I tensorflow/stream_executor/platform/default/dso_loader.cc:49] Successfully opened dynamic library libcudnn.so.7\n",
      "2022-02-12 19:44:26.335522: I tensorflow/stream_executor/cuda/cuda_gpu_executor.cc:941] successful NUMA node read from SysFS had negative value (-1), but there must be at least one NUMA node, so returning NUMA node zero\n",
      "2022-02-12 19:44:26.335761: I tensorflow/stream_executor/cuda/cuda_gpu_executor.cc:941] successful NUMA node read from SysFS had negative value (-1), but there must be at least one NUMA node, so returning NUMA node zero\n",
      "2022-02-12 19:44:26.335966: I tensorflow/core/common_runtime/gpu/gpu_device.cc:1862] Adding visible gpu devices: 0\n",
      "2022-02-12 19:44:26.336174: I tensorflow/stream_executor/cuda/cuda_gpu_executor.cc:941] successful NUMA node read from SysFS had negative value (-1), but there must be at least one NUMA node, so returning NUMA node zero\n",
      "2022-02-12 19:44:26.336390: I tensorflow/core/common_runtime/gpu/gpu_device.cc:1720] Found device 0 with properties: \n",
      "pciBusID: 0000:01:00.0 name: NVIDIA GeForce GTX 1050 Ti computeCapability: 6.1\n",
      "coreClock: 1.62GHz coreCount: 6 deviceMemorySize: 3.95GiB deviceMemoryBandwidth: 104.43GiB/s\n",
      "2022-02-12 19:44:26.336404: I tensorflow/stream_executor/platform/default/dso_loader.cc:49] Successfully opened dynamic library libcudart.so.10.1\n",
      "2022-02-12 19:44:26.336415: I tensorflow/stream_executor/platform/default/dso_loader.cc:49] Successfully opened dynamic library libcublas.so.10\n",
      "2022-02-12 19:44:26.336426: I tensorflow/stream_executor/platform/default/dso_loader.cc:49] Successfully opened dynamic library libcublasLt.so.10\n",
      "2022-02-12 19:44:26.336436: I tensorflow/stream_executor/platform/default/dso_loader.cc:49] Successfully opened dynamic library libcufft.so.10\n",
      "2022-02-12 19:44:26.336446: I tensorflow/stream_executor/platform/default/dso_loader.cc:49] Successfully opened dynamic library libcurand.so.10\n",
      "2022-02-12 19:44:26.336456: I tensorflow/stream_executor/platform/default/dso_loader.cc:49] Successfully opened dynamic library libcusolver.so.10\n",
      "2022-02-12 19:44:26.336466: I tensorflow/stream_executor/platform/default/dso_loader.cc:49] Successfully opened dynamic library libcusparse.so.10\n",
      "2022-02-12 19:44:26.336475: I tensorflow/stream_executor/platform/default/dso_loader.cc:49] Successfully opened dynamic library libcudnn.so.7\n",
      "2022-02-12 19:44:26.336515: I tensorflow/stream_executor/cuda/cuda_gpu_executor.cc:941] successful NUMA node read from SysFS had negative value (-1), but there must be at least one NUMA node, so returning NUMA node zero\n",
      "2022-02-12 19:44:26.336754: I tensorflow/stream_executor/cuda/cuda_gpu_executor.cc:941] successful NUMA node read from SysFS had negative value (-1), but there must be at least one NUMA node, so returning NUMA node zero\n",
      "2022-02-12 19:44:26.336955: I tensorflow/core/common_runtime/gpu/gpu_device.cc:1862] Adding visible gpu devices: 0\n",
      "2022-02-12 19:44:26.336978: I tensorflow/core/common_runtime/gpu/gpu_device.cc:1261] Device interconnect StreamExecutor with strength 1 edge matrix:\n",
      "2022-02-12 19:44:26.336983: I tensorflow/core/common_runtime/gpu/gpu_device.cc:1267]      0 \n",
      "2022-02-12 19:44:26.336988: I tensorflow/core/common_runtime/gpu/gpu_device.cc:1280] 0:   N \n",
      "2022-02-12 19:44:26.337047: I tensorflow/stream_executor/cuda/cuda_gpu_executor.cc:941] successful NUMA node read from SysFS had negative value (-1), but there must be at least one NUMA node, so returning NUMA node zero\n",
      "2022-02-12 19:44:26.337289: I tensorflow/stream_executor/cuda/cuda_gpu_executor.cc:941] successful NUMA node read from SysFS had negative value (-1), but there must be at least one NUMA node, so returning NUMA node zero\n",
      "2022-02-12 19:44:26.337501: I tensorflow/core/common_runtime/gpu/gpu_device.cc:1406] Created TensorFlow device (/job:localhost/replica:0/task:0/device:GPU:0 with 3143 MB memory) -> physical GPU (device: 0, name: NVIDIA GeForce GTX 1050 Ti, pci bus id: 0000:01:00.0, compute capability: 6.1)\n",
      "2022-02-12 19:44:26.337533: I tensorflow/compiler/jit/xla_gpu_device.cc:99] Not creating XLA devices, tf_xla_enable_xla_devices not set\n"
     ]
    }
   ],
   "source": [
    "# 5. Create the model with CNN layers\n",
    "# More information: https://keras.io/api/layers/convolution_layers/convolution2d/\n",
    "\n",
    "from tensorflow.python.keras import Sequential\n",
    "from tensorflow.python.keras.layers import Dense, Conv2D, Flatten, MaxPooling2D\n",
    "\n",
    "model = Sequential()\n",
    "\n",
    "# add a conv layer with \"same\" zero padding\n",
    "model.add(Conv2D(64, kernel_size = 3, activation = 'relu', padding = \"SAME\", input_shape = (28, 28, 1)))\n",
    "\n",
    "# Add a pooling layer\n",
    "model.add(MaxPooling2D(pool_size= (2,2)))\n",
    "\n",
    "# Add a second conv layer with a stride of 2x2\n",
    "model.add(Conv2D(32, kernel_size = 3, activation = \"relu\", padding = \"SAME\", strides = (2,2)))\n",
    "\n",
    "# Add a pooling layer\n",
    "model.add(MaxPooling2D(pool_size = (2,2)))\n",
    "\n",
    "# Flatten the input\n",
    "model.add(Flatten())\n",
    "\n",
    "# Regular FC layer with output size 10 (for the 10 digits)\n",
    "model.add(Dense(10, activation = \"softmax\"))\n",
    "\n",
    "# Print the summary of the model to view the shape and number of parameters\n",
    "model.summary()"
   ]
  },
  {
   "cell_type": "code",
   "execution_count": 12,
   "id": "67932f1f",
   "metadata": {},
   "outputs": [],
   "source": [
    "# 6. Specify the optimizer\n",
    "model.compile(optimizer = 'SGD', loss = 'categorical_crossentropy', metrics = ['accuracy'])"
   ]
  },
  {
   "cell_type": "code",
   "execution_count": 13,
   "id": "39dbe5fa",
   "metadata": {},
   "outputs": [
    {
     "name": "stderr",
     "output_type": "stream",
     "text": [
      "2022-02-12 19:46:27.270699: I tensorflow/compiler/mlir/mlir_graph_optimization_pass.cc:116] None of the MLIR optimization passes are enabled (registered 2)\n",
      "2022-02-12 19:46:27.290578: I tensorflow/core/platform/profile_utils/cpu_utils.cc:112] CPU Frequency: 2199995000 Hz\n"
     ]
    },
    {
     "name": "stdout",
     "output_type": "stream",
     "text": [
      "Epoch 1/2\n"
     ]
    },
    {
     "name": "stderr",
     "output_type": "stream",
     "text": [
      "2022-02-12 19:46:27.548426: I tensorflow/stream_executor/platform/default/dso_loader.cc:49] Successfully opened dynamic library libcublas.so.10\n",
      "2022-02-12 19:46:27.966435: I tensorflow/stream_executor/platform/default/dso_loader.cc:49] Successfully opened dynamic library libcudnn.so.7\n",
      "2022-02-12 19:46:28.811376: W tensorflow/stream_executor/gpu/asm_compiler.cc:63] Running ptxas --version returned 256\n",
      "2022-02-12 19:46:28.837151: W tensorflow/stream_executor/gpu/redzone_allocator.cc:314] Internal: ptxas exited with non-zero error code 256, output: \n",
      "Relying on driver to perform ptx compilation. \n",
      "Modify $PATH to customize ptxas location.\n",
      "This message will be only logged once.\n"
     ]
    },
    {
     "name": "stdout",
     "output_type": "stream",
     "text": [
      "938/938 [==============================] - 10s 7ms/step - loss: 12.1943 - accuracy: 0.4786\n",
      "Epoch 2/2\n",
      "938/938 [==============================] - 6s 6ms/step - loss: 0.7475 - accuracy: 0.7619\n",
      "Total training time: 0.2590240240097046 minutes.\n"
     ]
    }
   ],
   "source": [
    "#7. Time how fast the model train\n",
    "\n",
    "import time\n",
    "\n",
    "start = time.time()\n",
    "\n",
    "# Train using a minibatch stochastic gradient descence\n",
    "history = model.fit(X_train, y_train, batch_size = 64, epochs = 2, verbose = 1)\n",
    "\n",
    "end = time.time()\n",
    "\n",
    "num_mins = (end-start)/60\n",
    "print(\"Total training time: \"  + str(num_mins) + \" minutes.\")"
   ]
  },
  {
   "cell_type": "code",
   "execution_count": 14,
   "id": "c90c7123",
   "metadata": {},
   "outputs": [
    {
     "name": "stdout",
     "output_type": "stream",
     "text": [
      "Test loss: 0.6806\n",
      "Test accuracy: 78.18\n"
     ]
    }
   ],
   "source": [
    "#8. Evaluate the model \n",
    "\n",
    "score = model.evaluate(X_test, y_test, verbose = 0)\n",
    "print(\"Test loss: %.4f\" % score[0])\n",
    "print(\"Test accuracy: %.2f\" % (score[1] * 100.0))"
   ]
  },
  {
   "cell_type": "code",
   "execution_count": 23,
   "id": "d4d51334",
   "metadata": {},
   "outputs": [
    {
     "name": "stdout",
     "output_type": "stream",
     "text": [
      "Epoch 1/8\n",
      "1500/1500 [==============================] - 8s 6ms/step - loss: 0.0726 - accuracy: 0.9760 - val_loss: 0.0762 - val_accuracy: 0.9760\n",
      "Epoch 2/8\n",
      "1500/1500 [==============================] - 9s 6ms/step - loss: 0.0689 - accuracy: 0.9776 - val_loss: 0.0997 - val_accuracy: 0.9693\n",
      "Epoch 3/8\n",
      "1500/1500 [==============================] - 9s 6ms/step - loss: 0.0672 - accuracy: 0.9786 - val_loss: 0.0779 - val_accuracy: 0.9770\n",
      "Epoch 4/8\n",
      "1500/1500 [==============================] - 9s 6ms/step - loss: 0.0664 - accuracy: 0.9780 - val_loss: 0.0817 - val_accuracy: 0.9762\n",
      "Epoch 5/8\n",
      "1500/1500 [==============================] - 9s 6ms/step - loss: 0.0644 - accuracy: 0.9792 - val_loss: 0.0787 - val_accuracy: 0.9768\n",
      "Epoch 6/8\n",
      "1500/1500 [==============================] - 9s 6ms/step - loss: 0.0628 - accuracy: 0.9795 - val_loss: 0.0841 - val_accuracy: 0.9768\n",
      "Epoch 7/8\n",
      "1500/1500 [==============================] - 9s 6ms/step - loss: 0.0628 - accuracy: 0.9797 - val_loss: 0.1124 - val_accuracy: 0.9662\n",
      "Epoch 8/8\n",
      "1500/1500 [==============================] - 9s 6ms/step - loss: 0.0613 - accuracy: 0.9799 - val_loss: 0.0900 - val_accuracy: 0.9752\n",
      "97.52\n",
      "Epoch 1/8\n",
      "1500/1500 [==============================] - 9s 6ms/step - loss: 0.0669 - accuracy: 0.9789 - val_loss: 0.0719 - val_accuracy: 0.9770\n",
      "Epoch 2/8\n",
      "1500/1500 [==============================] - 10s 6ms/step - loss: 0.0644 - accuracy: 0.9790 - val_loss: 0.0691 - val_accuracy: 0.9778\n",
      "Epoch 3/8\n",
      "1500/1500 [==============================] - 10s 6ms/step - loss: 0.0619 - accuracy: 0.9804 - val_loss: 0.0756 - val_accuracy: 0.9760\n",
      "Epoch 4/8\n",
      "1500/1500 [==============================] - 10s 7ms/step - loss: 0.0609 - accuracy: 0.9808 - val_loss: 0.0760 - val_accuracy: 0.9769\n",
      "Epoch 5/8\n",
      "1500/1500 [==============================] - 9s 6ms/step - loss: 0.0600 - accuracy: 0.9808 - val_loss: 0.0753 - val_accuracy: 0.9759\n",
      "Epoch 6/8\n",
      "1500/1500 [==============================] - 10s 7ms/step - loss: 0.0588 - accuracy: 0.9806 - val_loss: 0.0800 - val_accuracy: 0.9752\n",
      "Epoch 7/8\n",
      "1500/1500 [==============================] - 10s 7ms/step - loss: 0.0588 - accuracy: 0.9808 - val_loss: 0.0796 - val_accuracy: 0.9755\n",
      "Epoch 8/8\n",
      "1500/1500 [==============================] - 10s 7ms/step - loss: 0.0567 - accuracy: 0.9817 - val_loss: 0.0912 - val_accuracy: 0.9721\n",
      "97.21\n",
      "Epoch 1/8\n",
      "1500/1500 [==============================] - 10s 7ms/step - loss: 0.0650 - accuracy: 0.9797 - val_loss: 0.0644 - val_accuracy: 0.9791\n",
      "Epoch 2/8\n",
      "1500/1500 [==============================] - 10s 7ms/step - loss: 0.0607 - accuracy: 0.9801 - val_loss: 0.0691 - val_accuracy: 0.9791\n",
      "Epoch 3/8\n",
      "1500/1500 [==============================] - 10s 7ms/step - loss: 0.0589 - accuracy: 0.9813 - val_loss: 0.0643 - val_accuracy: 0.9798\n",
      "Epoch 4/8\n",
      "1500/1500 [==============================] - 10s 7ms/step - loss: 0.0576 - accuracy: 0.9811 - val_loss: 0.0735 - val_accuracy: 0.9787\n",
      "Epoch 5/8\n",
      "1500/1500 [==============================] - 10s 7ms/step - loss: 0.0541 - accuracy: 0.9828 - val_loss: 0.0753 - val_accuracy: 0.9780\n",
      "Epoch 6/8\n",
      "1500/1500 [==============================] - 10s 7ms/step - loss: 0.0544 - accuracy: 0.9823 - val_loss: 0.0820 - val_accuracy: 0.9772\n",
      "Epoch 7/8\n",
      "1500/1500 [==============================] - 10s 7ms/step - loss: 0.0545 - accuracy: 0.9813 - val_loss: 0.0767 - val_accuracy: 0.9780\n",
      "Epoch 8/8\n",
      "1500/1500 [==============================] - 10s 7ms/step - loss: 0.0555 - accuracy: 0.9823 - val_loss: 0.0752 - val_accuracy: 0.9788\n",
      "97.88\n",
      "Epoch 1/8\n",
      "1500/1500 [==============================] - 10s 7ms/step - loss: 0.0672 - accuracy: 0.9794 - val_loss: 0.0577 - val_accuracy: 0.9818\n",
      "Epoch 2/8\n",
      "1500/1500 [==============================] - 10s 7ms/step - loss: 0.0639 - accuracy: 0.9792 - val_loss: 0.0496 - val_accuracy: 0.9820\n",
      "Epoch 3/8\n",
      "1500/1500 [==============================] - 10s 7ms/step - loss: 0.0594 - accuracy: 0.9805 - val_loss: 0.0532 - val_accuracy: 0.9812\n",
      "Epoch 4/8\n",
      "1500/1500 [==============================] - 10s 7ms/step - loss: 0.0586 - accuracy: 0.9807 - val_loss: 0.0533 - val_accuracy: 0.9822\n",
      "Epoch 5/8\n",
      "1500/1500 [==============================] - 10s 7ms/step - loss: 0.0591 - accuracy: 0.9810 - val_loss: 0.0586 - val_accuracy: 0.9796\n",
      "Epoch 6/8\n",
      "1500/1500 [==============================] - 10s 7ms/step - loss: 0.0571 - accuracy: 0.9813 - val_loss: 0.0723 - val_accuracy: 0.9769\n",
      "Epoch 7/8\n",
      "1500/1500 [==============================] - 10s 7ms/step - loss: 0.0549 - accuracy: 0.9825 - val_loss: 0.0665 - val_accuracy: 0.9789\n",
      "Epoch 8/8\n",
      "1500/1500 [==============================] - 10s 7ms/step - loss: 0.0546 - accuracy: 0.9824 - val_loss: 0.0693 - val_accuracy: 0.9771\n",
      "97.71\n",
      "Epoch 1/8\n",
      "1500/1500 [==============================] - 10s 7ms/step - loss: 0.0604 - accuracy: 0.9809 - val_loss: 0.0514 - val_accuracy: 0.9823\n",
      "Epoch 2/8\n",
      "1500/1500 [==============================] - 10s 7ms/step - loss: 0.0600 - accuracy: 0.9807 - val_loss: 0.0563 - val_accuracy: 0.9804\n",
      "Epoch 3/8\n",
      "1500/1500 [==============================] - 10s 7ms/step - loss: 0.0582 - accuracy: 0.9811 - val_loss: 0.0573 - val_accuracy: 0.9803\n",
      "Epoch 4/8\n",
      "1500/1500 [==============================] - 12s 8ms/step - loss: 0.0569 - accuracy: 0.9808 - val_loss: 0.0609 - val_accuracy: 0.9792\n",
      "Epoch 5/8\n",
      "1500/1500 [==============================] - 10s 7ms/step - loss: 0.0571 - accuracy: 0.9807 - val_loss: 0.0674 - val_accuracy: 0.9788\n",
      "Epoch 6/8\n",
      "1500/1500 [==============================] - 10s 7ms/step - loss: 0.0555 - accuracy: 0.9818 - val_loss: 0.0729 - val_accuracy: 0.9771\n",
      "Epoch 7/8\n",
      "1500/1500 [==============================] - 16s 11ms/step - loss: 0.0553 - accuracy: 0.9820 - val_loss: 0.0630 - val_accuracy: 0.9806\n",
      "Epoch 8/8\n",
      "1500/1500 [==============================] - 11s 7ms/step - loss: 0.0548 - accuracy: 0.9820 - val_loss: 0.0714 - val_accuracy: 0.9786\n",
      "97.86\n"
     ]
    }
   ],
   "source": [
    "#9. K-fold cross validation\n",
    "from sklearn.model_selection import KFold\n",
    "n_folds = 5\n",
    "scores = []\n",
    "histories = []\n",
    "\n",
    "# prepare cross validation\n",
    "kfold = KFold(n_folds, shuffle = True, random_state = 1)\n",
    "\n",
    "# enumerate splits\n",
    "for train_i, test_i in kfold.split(X_train):\n",
    "    #select the rows for train and test\n",
    "    trainX, trainY, testX, testY = X_train[train_i], y_train[train_i], X_train[test_i], y_train[test_i]\n",
    "    #fit model with the new train subset\n",
    "    history = model.fit(trainX, trainY, epochs = 8, batch_size = 32, validation_data= (testX, testY))\n",
    "    #evaluate the model with the new test subset\n",
    "    loss, acc = model.evaluate(testX, testY, verbose =0)\n",
    "    print(\"%.2f\" % (acc * 100.0))\n",
    "    scores.append(acc)\n",
    "    histories.append(history)"
   ]
  },
  {
   "cell_type": "code",
   "execution_count": 24,
   "id": "119acb1d",
   "metadata": {},
   "outputs": [
    {
     "data": {
      "text/plain": [
       "5"
      ]
     },
     "execution_count": 24,
     "metadata": {},
     "output_type": "execute_result"
    }
   ],
   "source": [
    "len(histories)"
   ]
  },
  {
   "cell_type": "code",
   "execution_count": 26,
   "id": "7540ce07",
   "metadata": {},
   "outputs": [
    {
     "data": {
      "image/png": "[encoded data removed]",
      "text/plain": [
       "<Figure size 432x288 with 1 Axes>"
      ]
     },
     "metadata": {
      "needs_background": "light"
     },
     "output_type": "display_data"
    }
   ],
   "source": [
    "#10. Plot loss function\n",
    "\n",
    "from matplotlib import pyplot as plt\n",
    "\n",
    "plt.plot(histories[3].history[\"loss\"], color = \"blue\", label = \"train\")\n",
    "plt.plot(histories[3].history[\"val_loss\"], color = \"red\", label = \"test\")\n",
    "\n",
    "plt.title(\"K-fold validation plot\")\n",
    "plt.ylabel(\"Cross entropy loss\")\n",
    "plt.xlabel(\"Num of epochs\")\n",
    "plt.show()"
   ]
  },
  {
   "cell_type": "code",
   "execution_count": null,
   "id": "f0e1eb65",
   "metadata": {},
   "outputs": [],
   "source": []
  }
 ],
 "metadata": {
  "kernelspec": {
   "display_name": "Python 3 (ipykernel)",
   "language": "python",
   "name": "python3"
  },
  "language_info": {
   "codemirror_mode": {
    "name": "ipython",
    "version": 3
   },
   "file_extension": ".py",
   "mimetype": "text/x-python",
   "name": "python",
   "nbconvert_exporter": "python",
   "pygments_lexer": "ipython3",
   "version": "3.9.7"
  }
 },
 "nbformat": 4,
 "nbformat_minor": 5
}
