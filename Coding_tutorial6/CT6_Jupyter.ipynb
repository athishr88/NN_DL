{
 "cells": [
  {
   "cell_type": "code",
   "execution_count": 1,
   "id": "f7a04ad9",
   "metadata": {},
   "outputs": [],
   "source": [
    "# LSTM\n",
    "\n",
    "#1. Load sample text file\n",
    "import tensorflow as tf\n",
    "path_to_file = tf.keras.utils.get_file(\"nietzsche.txt\", \n",
    "                  origin=\"https://s3.amazonaws.com/text-datasets/nietzsche.txt\")"
   ]
  },
  {
   "cell_type": "code",
   "execution_count": 2,
   "id": "4dce4823",
   "metadata": {},
   "outputs": [
    {
     "name": "stdout",
     "output_type": "stream",
     "text": [
      "Length of text: 600893 characters\n"
     ]
    }
   ],
   "source": [
    "#2. Read the text\n",
    "text = open(path_to_file, \"rb\").read().decode(encoding='utf-8')\n",
    "text = text.lower()\n",
    "\n",
    "# Number of characters in the text\n",
    "n_char = len(text)\n",
    "print(f\"Length of text: {n_char} characters\")"
   ]
  },
  {
   "cell_type": "code",
   "execution_count": 3,
   "id": "99999804",
   "metadata": {},
   "outputs": [
    {
     "data": {
      "text/plain": [
       "57"
      ]
     },
     "execution_count": 3,
     "metadata": {},
     "output_type": "execute_result"
    }
   ],
   "source": [
    "#3. List of unique characters\n",
    "\n",
    "vocab = sorted(set(text))\n",
    "num_vocab = len(vocab)\n",
    "num_vocab"
   ]
  },
  {
   "cell_type": "code",
   "execution_count": 4,
   "id": "cbe885b8",
   "metadata": {},
   "outputs": [],
   "source": [
    "#4. Create a mapping for each text\n",
    "char_to_int = dict((c,i) for i, c in enumerate(vocab))\n",
    "\n",
    "int_to_char = dict((i,c) for i, c in enumerate(vocab))"
   ]
  },
  {
   "cell_type": "code",
   "execution_count": 11,
   "id": "5c03a0f1",
   "metadata": {},
   "outputs": [
    {
     "name": "stdout",
     "output_type": "stream",
     "text": [
      "Total patterns :600853\n"
     ]
    }
   ],
   "source": [
    "# 5. Prepare the dataset of input to output pairs\n",
    "## \"Hello\" --> input: \"Hell\" output: \"o\"\n",
    "\n",
    "seq_length = 40\n",
    "dataX = []\n",
    "dataY = []\n",
    "\n",
    "for i in range(0, n_char-seq_length, 1):\n",
    "    seq_in = text[i:i+seq_length] # Inout substring\n",
    "    seq_out = text[i+seq_length]\n",
    "    dataX.append([char_to_int[char] for char in seq_in])\n",
    "    dataY.append(char_to_int[seq_out])\n",
    "    \n",
    "n_patterns = len(dataX)\n",
    "print(f\"Total patterns :{n_patterns}\")"
   ]
  },
  {
   "cell_type": "code",
   "execution_count": 12,
   "id": "c52a9b2e",
   "metadata": {},
   "outputs": [
    {
     "data": {
      "text/plain": [
       "600853"
      ]
     },
     "execution_count": 12,
     "metadata": {},
     "output_type": "execute_result"
    }
   ],
   "source": [
    "len(dataX)"
   ]
  },
  {
   "cell_type": "code",
   "execution_count": 13,
   "id": "b82e933c",
   "metadata": {},
   "outputs": [],
   "source": [
    "#6. Preprocessing the input data\n",
    "from tensorflow.keras.utils import to_categorical\n",
    "import numpy as np\n",
    "\n",
    "# Reshape X to be [Samples, time_steps, features]\n",
    "X = np.reshape(dataX, (n_patterns, seq_length, 1))\n",
    "\n",
    "# Normalize\n",
    "X = X/float(num_vocab)\n",
    "\n",
    "# One hot encode\n",
    "y = to_categorical(dataY)"
   ]
  },
  {
   "cell_type": "code",
   "execution_count": 15,
   "id": "44b1b851",
   "metadata": {},
   "outputs": [
    {
     "data": {
      "text/plain": [
       "array([0., 0., 0., 0., 0., 0., 0., 0., 0., 0., 0., 0., 0., 0., 0., 0., 0.,\n",
       "       0., 0., 0., 0., 0., 0., 0., 0., 0., 0., 0., 0., 0., 0., 0., 0., 0.,\n",
       "       0., 0., 0., 0., 0., 0., 1., 0., 0., 0., 0., 0., 0., 0., 0., 0., 0.,\n",
       "       0., 0., 0., 0., 0., 0.], dtype=float32)"
      ]
     },
     "execution_count": 15,
     "metadata": {},
     "output_type": "execute_result"
    }
   ],
   "source": [
    "y[0]"
   ]
  },
  {
   "cell_type": "code",
   "execution_count": 18,
   "id": "c214669e",
   "metadata": {},
   "outputs": [],
   "source": [
    "# 7. Build the model\n",
    "\n",
    "from keras.models import Sequential\n",
    "from keras.layers import Dense, Dropout, LSTM\n",
    "from keras.callbacks import ModelCheckpoint\n",
    "\n",
    "model = Sequential()\n",
    "model.add(LSTM(256, input_shape=(X.shape[1], X.shape[2])))\n",
    "model.add(Dropout(0.2))\n",
    "model.add(Dense(y.shape[1], activation='softmax'))\n",
    "\n",
    "model.compile(optimizer='adam', loss='categorical_crossentropy')"
   ]
  },
  {
   "cell_type": "code",
   "execution_count": null,
   "id": "18808eae",
   "metadata": {},
   "outputs": [
    {
     "name": "stdout",
     "output_type": "stream",
     "text": [
      "Epoch 1/20\n",
      "4695/4695 [==============================] - ETA: 0s - loss: 2.8614\n",
      "Epoch 00001: loss improved from inf to 2.86145, saving model to LSTM_tutorial_model.hdf5\n",
      "4695/4695 [==============================] - 649s 138ms/step - loss: 2.8614\n",
      "Epoch 2/20\n",
      "4694/4695 [============================>.] - ETA: 0s - loss: 2.7033\n",
      "Epoch 00002: loss improved from 2.86145 to 2.70331, saving model to LSTM_tutorial_model.hdf5\n",
      "4695/4695 [==============================] - 703s 150ms/step - loss: 2.7033\n",
      "Epoch 3/20\n",
      "1348/4695 [=======>......................] - ETA: 7:29 - loss: 2.6442"
     ]
    }
   ],
   "source": [
    "#8. Train and save model\n",
    "\n",
    "filepath = \"LSTM_tutorial_model.hdf5\"\n",
    "checkpoint = ModelCheckpoint(filepath, monitor='loss', verbose=1, save_best_only=True, mode='min')\n",
    "hostory = model.fit(X, y, epochs=20, batch_size=128, callbacks=[checkpoint])"
   ]
  },
  {
   "cell_type": "code",
   "execution_count": null,
   "id": "17b6bbfa",
   "metadata": {},
   "outputs": [],
   "source": []
  }
 ],
 "metadata": {
  "kernelspec": {
   "display_name": "Python 3 (ipykernel)",
   "language": "python",
   "name": "python3"
  },
  "language_info": {
   "codemirror_mode": {
    "name": "ipython",
    "version": 3
   },
   "file_extension": ".py",
   "mimetype": "text/x-python",
   "name": "python",
   "nbconvert_exporter": "python",
   "pygments_lexer": "ipython3",
   "version": "3.9.7"
  }
 },
 "nbformat": 4,
 "nbformat_minor": 5
}
