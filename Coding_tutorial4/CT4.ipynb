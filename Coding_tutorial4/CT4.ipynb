{
 "cells": [
  {
   "cell_type": "code",
   "execution_count": 7,
   "id": "3fba8604",
   "metadata": {},
   "outputs": [],
   "source": [
    "import os\n",
    "os.environ['TF_CPP_MIN_LOG_LEVEL'] = '3' "
   ]
  },
  {
   "cell_type": "code",
   "execution_count": 1,
   "id": "a7682579",
   "metadata": {},
   "outputs": [],
   "source": [
    "#1. Import dataset and preprocess\n",
    "from keras.datasets import mnist\n",
    "\n",
    "(X_train, y_train), (X_test, y_test) = mnist.load_data()"
   ]
  },
  {
   "cell_type": "code",
   "execution_count": 2,
   "id": "66b0c6cf",
   "metadata": {},
   "outputs": [],
   "source": [
    "from tensorflow.keras.utils import to_categorical\n",
    "X_train = X_train.reshape(X_train.shape[0], 28, 28, 1)\n",
    "X_test = X_test.reshape(X_test.shape[0], 28, 28, 1)\n",
    "\n",
    "y_train = to_categorical(y_train)\n",
    "y_test = to_categorical(y_test)"
   ]
  },
  {
   "cell_type": "code",
   "execution_count": 9,
   "id": "b672ecef",
   "metadata": {},
   "outputs": [
    {
     "name": "stdout",
     "output_type": "stream",
     "text": [
      "Model: \"sequential_2\"\n",
      "_________________________________________________________________\n",
      "Layer (type)                 Output Shape              Param #   \n",
      "=================================================================\n",
      "conv2d_3 (Conv2D)            (None, 26, 26, 64)        640       \n",
      "_________________________________________________________________\n",
      "max_pooling2d_3 (MaxPooling2 (None, 13, 13, 64)        0         \n",
      "_________________________________________________________________\n",
      "flatten_3 (Flatten)          (None, 10816)             0         \n",
      "_________________________________________________________________\n",
      "dense_6 (Dense)              (None, 100)               1081700   \n",
      "_________________________________________________________________\n",
      "dense_7 (Dense)              (None, 10)                1010      \n",
      "=================================================================\n",
      "Total params: 1,083,350\n",
      "Trainable params: 1,083,350\n",
      "Non-trainable params: 0\n",
      "_________________________________________________________________\n",
      "Epoch 1/15\n"
     ]
    },
    {
     "name": "stderr",
     "output_type": "stream",
     "text": [
      "2022-02-12 21:12:19.332268: I tensorflow/compiler/mlir/mlir_graph_optimization_pass.cc:116] None of the MLIR optimization passes are enabled (registered 2)\n",
      "2022-02-12 21:12:19.350490: I tensorflow/core/platform/profile_utils/cpu_utils.cc:112] CPU Frequency: 2199995000 Hz\n",
      "2022-02-12 21:12:19.777287: I tensorflow/stream_executor/platform/default/dso_loader.cc:49] Successfully opened dynamic library libcublas.so.10\n",
      "2022-02-12 21:12:19.910221: I tensorflow/stream_executor/platform/default/dso_loader.cc:49] Successfully opened dynamic library libcudnn.so.7\n",
      "2022-02-12 21:12:20.456025: W tensorflow/stream_executor/gpu/asm_compiler.cc:63] Running ptxas --version returned 256\n",
      "2022-02-12 21:12:20.489160: W tensorflow/stream_executor/gpu/redzone_allocator.cc:314] Internal: ptxas exited with non-zero error code 256, output: \n",
      "Relying on driver to perform ptx compilation. \n",
      "Modify $PATH to customize ptxas location.\n",
      "This message will be only logged once.\n"
     ]
    },
    {
     "name": "stdout",
     "output_type": "stream",
     "text": [
      "938/938 [==============================] - 9s 8ms/step - loss: 3.1099 - accuracy: 0.8646 - val_loss: 0.1059 - val_accuracy: 0.9692\n",
      "Epoch 2/15\n",
      "938/938 [==============================] - 6s 6ms/step - loss: 0.0812 - accuracy: 0.9757 - val_loss: 0.1001 - val_accuracy: 0.9726\n",
      "Epoch 3/15\n",
      "938/938 [==============================] - 6s 6ms/step - loss: 0.0490 - accuracy: 0.9846 - val_loss: 0.0860 - val_accuracy: 0.9759\n",
      "Epoch 4/15\n",
      "938/938 [==============================] - 6s 6ms/step - loss: 0.0333 - accuracy: 0.9899 - val_loss: 0.0813 - val_accuracy: 0.9776\n",
      "Epoch 5/15\n",
      "938/938 [==============================] - 6s 6ms/step - loss: 0.0334 - accuracy: 0.9896 - val_loss: 0.0853 - val_accuracy: 0.9792\n",
      "Epoch 6/15\n",
      "938/938 [==============================] - 6s 6ms/step - loss: 0.0275 - accuracy: 0.9914 - val_loss: 0.1010 - val_accuracy: 0.9762\n",
      "Epoch 7/15\n",
      "938/938 [==============================] - 6s 6ms/step - loss: 0.0221 - accuracy: 0.9929 - val_loss: 0.0970 - val_accuracy: 0.9780\n",
      "Epoch 8/15\n",
      "938/938 [==============================] - 6s 6ms/step - loss: 0.0164 - accuracy: 0.9943 - val_loss: 0.1100 - val_accuracy: 0.9756\n",
      "Epoch 9/15\n",
      "938/938 [==============================] - 6s 6ms/step - loss: 0.0181 - accuracy: 0.9940 - val_loss: 0.1005 - val_accuracy: 0.9796\n",
      "Epoch 10/15\n",
      "938/938 [==============================] - 6s 6ms/step - loss: 0.0139 - accuracy: 0.9955 - val_loss: 0.1100 - val_accuracy: 0.9784\n",
      "Epoch 11/15\n",
      "938/938 [==============================] - 6s 6ms/step - loss: 0.0130 - accuracy: 0.9956 - val_loss: 0.0987 - val_accuracy: 0.9811\n",
      "Epoch 12/15\n",
      "938/938 [==============================] - 6s 6ms/step - loss: 0.0110 - accuracy: 0.9960 - val_loss: 0.1149 - val_accuracy: 0.9796\n",
      "Epoch 13/15\n",
      "938/938 [==============================] - 6s 6ms/step - loss: 0.0119 - accuracy: 0.9963 - val_loss: 0.1266 - val_accuracy: 0.9794\n",
      "Epoch 14/15\n",
      "938/938 [==============================] - 6s 7ms/step - loss: 0.0118 - accuracy: 0.9964 - val_loss: 0.1419 - val_accuracy: 0.9771\n",
      "Epoch 15/15\n",
      "938/938 [==============================] - 6s 7ms/step - loss: 0.0104 - accuracy: 0.9970 - val_loss: 0.1380 - val_accuracy: 0.9787\n"
     ]
    }
   ],
   "source": [
    "# Base model (conv + pool + FC + fc output layer)\n",
    "\n",
    "from tensorflow.python.keras import Sequential\n",
    "from tensorflow.python.keras.layers import Conv2D, MaxPooling2D, Dense, Flatten\n",
    "\n",
    "model = Sequential([\n",
    "    Conv2D(64, 3, activation='relu', input_shape=(28, 28, 1)),\n",
    "    MaxPooling2D((2,2)),\n",
    "    Flatten(),\n",
    "    Dense(100, activation='relu'),\n",
    "    Dense(10, activation='softmax')\n",
    "])\n",
    "\n",
    "model.summary()\n",
    "model.compile(loss='categorical_crossentropy', optimizer='adam', metrics=['accuracy'])\n",
    "trained_model_base = model.fit(X_train, y_train, epochs=15, batch_size=64, validation_data=(X_test, y_test))"
   ]
  },
  {
   "cell_type": "code",
   "execution_count": 11,
   "id": "19148ff0",
   "metadata": {},
   "outputs": [
    {
     "name": "stdout",
     "output_type": "stream",
     "text": [
      "Model: \"sequential_4\"\n",
      "_________________________________________________________________\n",
      "Layer (type)                 Output Shape              Param #   \n",
      "=================================================================\n",
      "conv2d_5 (Conv2D)            (None, 26, 26, 64)        640       \n",
      "_________________________________________________________________\n",
      "max_pooling2d_5 (MaxPooling2 (None, 13, 13, 64)        0         \n",
      "_________________________________________________________________\n",
      "flatten_5 (Flatten)          (None, 10816)             0         \n",
      "_________________________________________________________________\n",
      "dense_10 (Dense)             (None, 100)               1081700   \n",
      "_________________________________________________________________\n",
      "dense_11 (Dense)             (None, 10)                1010      \n",
      "=================================================================\n",
      "Total params: 1,083,350\n",
      "Trainable params: 1,083,350\n",
      "Non-trainable params: 0\n",
      "_________________________________________________________________\n",
      "Epoch 1/15\n",
      "938/938 [==============================] - 7s 7ms/step - loss: 3.4665 - accuracy: 0.8670 - val_loss: 0.1127 - val_accuracy: 0.9718\n",
      "Epoch 2/15\n",
      "938/938 [==============================] - 6s 7ms/step - loss: 0.0851 - accuracy: 0.9759 - val_loss: 0.0986 - val_accuracy: 0.9725\n",
      "Epoch 3/15\n",
      "938/938 [==============================] - 6s 7ms/step - loss: 0.0509 - accuracy: 0.9852 - val_loss: 0.1041 - val_accuracy: 0.9713\n",
      "Epoch 4/15\n",
      "938/938 [==============================] - 6s 6ms/step - loss: 0.0385 - accuracy: 0.9881 - val_loss: 0.0975 - val_accuracy: 0.9765\n",
      "Epoch 5/15\n",
      "938/938 [==============================] - 6s 7ms/step - loss: 0.0360 - accuracy: 0.9892 - val_loss: 0.1031 - val_accuracy: 0.9755\n",
      "Epoch 6/15\n",
      "938/938 [==============================] - 7s 7ms/step - loss: 0.0306 - accuracy: 0.9918 - val_loss: 0.0878 - val_accuracy: 0.9801\n",
      "Epoch 7/15\n",
      "938/938 [==============================] - 7s 7ms/step - loss: 0.0278 - accuracy: 0.9922 - val_loss: 0.1069 - val_accuracy: 0.9786\n",
      "Epoch 8/15\n",
      "938/938 [==============================] - 8s 8ms/step - loss: 0.0241 - accuracy: 0.9936 - val_loss: 0.1099 - val_accuracy: 0.9795\n",
      "Epoch 9/15\n",
      "938/938 [==============================] - 9s 10ms/step - loss: 0.0263 - accuracy: 0.9935 - val_loss: 0.1270 - val_accuracy: 0.9754\n",
      "Epoch 10/15\n",
      "938/938 [==============================] - 8s 8ms/step - loss: 0.0209 - accuracy: 0.9946 - val_loss: 0.1334 - val_accuracy: 0.9770\n",
      "Epoch 11/15\n",
      "938/938 [==============================] - 8s 8ms/step - loss: 0.0213 - accuracy: 0.9956 - val_loss: 0.1186 - val_accuracy: 0.9785\n",
      "Epoch 12/15\n",
      "938/938 [==============================] - 9s 9ms/step - loss: 0.0157 - accuracy: 0.9969 - val_loss: 0.1386 - val_accuracy: 0.9766\n",
      "Epoch 13/15\n",
      "938/938 [==============================] - 9s 10ms/step - loss: 0.0185 - accuracy: 0.9962 - val_loss: 0.1520 - val_accuracy: 0.9759\n",
      "Epoch 14/15\n",
      "938/938 [==============================] - 9s 10ms/step - loss: 0.0214 - accuracy: 0.9955 - val_loss: 0.1405 - val_accuracy: 0.9772\n",
      "Epoch 15/15\n",
      "938/938 [==============================] - 10s 10ms/step - loss: 0.0175 - accuracy: 0.9966 - val_loss: 0.1500 - val_accuracy: 0.9789\n"
     ]
    }
   ],
   "source": [
    "from keras import regularizers\n",
    "\n",
    "model = Sequential([\n",
    "    Conv2D(64, 3, activation='relu', input_shape=(28, 28, 1), kernel_regularizer=regularizers.l2(0.00001)),\n",
    "    MaxPooling2D((2,2)),\n",
    "    Flatten(),\n",
    "    Dense(100, activation='relu', kernel_regularizer=regularizers.l2(0.00001)),\n",
    "    Dense(10, activation='softmax')\n",
    "])\n",
    "\n",
    "model.summary()\n",
    "\n",
    "model.compile(loss='categorical_crossentropy', optimizer='adam', metrics=['accuracy'])\n",
    "trained_model_base_l2 = model.fit(X_train, y_train, epochs=15, batch_size=64, validation_data=(X_test, y_test))"
   ]
  },
  {
   "cell_type": "code",
   "execution_count": 17,
   "id": "d3822450",
   "metadata": {},
   "outputs": [
    {
     "data": {
      "text/plain": [
       "<matplotlib.legend.Legend at 0x7f9ffb831eb0>"
      ]
     },
     "execution_count": 17,
     "metadata": {},
     "output_type": "execute_result"
    },
    {
     "data": {
      "image/png": "[encoded data removed]",
      "text/plain": [
       "<Figure size 432x288 with 1 Axes>"
      ]
     },
     "metadata": {
      "needs_background": "light"
     },
     "output_type": "display_data"
    }
   ],
   "source": [
    "# Plot loss values(L2 vs base model)\n",
    "import matplotlib.pyplot as plt\n",
    "\n",
    "plt.figure()\n",
    "plt.plot(trained_model_base.history['loss'], color='red', label='base train')\n",
    "plt.plot(trained_model_base_l2.history['loss'], color='blue', label='l2 train train')\n",
    "\n",
    "plt.plot(trained_model_base.history['val_loss'], color='green', label='base val')\n",
    "plt.plot(trained_model_base_l2.history['val_loss'], color='orange', label='l2 train val')\n",
    "plt.legend()"
   ]
  },
  {
   "cell_type": "code",
   "execution_count": 20,
   "id": "2dadf75e",
   "metadata": {},
   "outputs": [
    {
     "name": "stdout",
     "output_type": "stream",
     "text": [
      "Model: \"sequential_6\"\n",
      "_________________________________________________________________\n",
      "Layer (type)                 Output Shape              Param #   \n",
      "=================================================================\n",
      "conv2d_7 (Conv2D)            (None, 26, 26, 64)        640       \n",
      "_________________________________________________________________\n",
      "max_pooling2d_7 (MaxPooling2 (None, 13, 13, 64)        0         \n",
      "_________________________________________________________________\n",
      "dropout (Dropout)            (None, 13, 13, 64)        0         \n",
      "_________________________________________________________________\n",
      "flatten_7 (Flatten)          (None, 10816)             0         \n",
      "_________________________________________________________________\n",
      "dense_14 (Dense)             (None, 100)               1081700   \n",
      "_________________________________________________________________\n",
      "dropout_1 (Dropout)          (None, 100)               0         \n",
      "_________________________________________________________________\n",
      "dense_15 (Dense)             (None, 10)                1010      \n",
      "=================================================================\n",
      "Total params: 1,083,350\n",
      "Trainable params: 1,083,350\n",
      "Non-trainable params: 0\n",
      "_________________________________________________________________\n",
      "Epoch 1/15\n",
      "938/938 [==============================] - 7s 7ms/step - loss: 1.7136 - accuracy: 0.8504 - val_loss: 0.1135 - val_accuracy: 0.9699\n",
      "Epoch 2/15\n",
      "938/938 [==============================] - 7s 7ms/step - loss: 0.1224 - accuracy: 0.9652 - val_loss: 0.0826 - val_accuracy: 0.9772\n",
      "Epoch 3/15\n",
      "938/938 [==============================] - 7s 7ms/step - loss: 0.0832 - accuracy: 0.9742 - val_loss: 0.0935 - val_accuracy: 0.9769\n",
      "Epoch 4/15\n",
      "938/938 [==============================] - 7s 7ms/step - loss: 0.0711 - accuracy: 0.9794 - val_loss: 0.0877 - val_accuracy: 0.9797\n",
      "Epoch 5/15\n",
      "938/938 [==============================] - 7s 7ms/step - loss: 0.0577 - accuracy: 0.9836 - val_loss: 0.0967 - val_accuracy: 0.9767\n",
      "Epoch 6/15\n",
      "938/938 [==============================] - 7s 8ms/step - loss: 0.0559 - accuracy: 0.9843 - val_loss: 0.0853 - val_accuracy: 0.9799\n",
      "Epoch 7/15\n",
      "938/938 [==============================] - 7s 8ms/step - loss: 0.0485 - accuracy: 0.9861 - val_loss: 0.0821 - val_accuracy: 0.9821\n",
      "Epoch 8/15\n",
      "938/938 [==============================] - 7s 8ms/step - loss: 0.0444 - accuracy: 0.9889 - val_loss: 0.0820 - val_accuracy: 0.9820\n",
      "Epoch 9/15\n",
      "938/938 [==============================] - 8s 8ms/step - loss: 0.0491 - accuracy: 0.9879 - val_loss: 0.0862 - val_accuracy: 0.9814\n",
      "Epoch 10/15\n",
      "938/938 [==============================] - 8s 9ms/step - loss: 0.0401 - accuracy: 0.9903 - val_loss: 0.0898 - val_accuracy: 0.9818\n",
      "Epoch 11/15\n",
      "938/938 [==============================] - 8s 9ms/step - loss: 0.0390 - accuracy: 0.9912 - val_loss: 0.1057 - val_accuracy: 0.9821\n",
      "Epoch 12/15\n",
      "938/938 [==============================] - 9s 10ms/step - loss: 0.0436 - accuracy: 0.9901 - val_loss: 0.0941 - val_accuracy: 0.9828\n",
      "Epoch 13/15\n",
      "938/938 [==============================] - 9s 9ms/step - loss: 0.0381 - accuracy: 0.9916 - val_loss: 0.1021 - val_accuracy: 0.9819\n",
      "Epoch 14/15\n",
      "938/938 [==============================] - 9s 10ms/step - loss: 0.0396 - accuracy: 0.9914 - val_loss: 0.0916 - val_accuracy: 0.9830\n",
      "Epoch 15/15\n",
      "938/938 [==============================] - 9s 10ms/step - loss: 0.0365 - accuracy: 0.9923 - val_loss: 0.0964 - val_accuracy: 0.9841\n"
     ]
    }
   ],
   "source": [
    "# Dropout\n",
    "from tensorflow.python.keras.layers.core import Dropout\n",
    "\n",
    "model = Sequential([\n",
    "    Conv2D(64, 3, activation='relu', input_shape=(28, 28, 1)),\n",
    "    MaxPooling2D((2,2)),\n",
    "    Dropout(0.1),\n",
    "    Flatten(),\n",
    "    Dense(100, activation='relu',),\n",
    "    Dropout(0.1),\n",
    "    Dense(10, activation='softmax')\n",
    "])\n",
    "\n",
    "model.summary()\n",
    "\n",
    "model.compile(loss='categorical_crossentropy', optimizer='adam', metrics=['accuracy'])\n",
    "trained_model_dropout = model.fit(X_train, y_train, epochs=15, batch_size=64, validation_data=(X_test, y_test))"
   ]
  },
  {
   "cell_type": "code",
   "execution_count": 21,
   "id": "a5fd3029",
   "metadata": {},
   "outputs": [
    {
     "data": {
      "text/plain": [
       "<matplotlib.legend.Legend at 0x7f9ffb92f490>"
      ]
     },
     "execution_count": 21,
     "metadata": {},
     "output_type": "execute_result"
    },
    {
     "data": {
      "image/png": "[encoded data removed]",
      "text/plain": [
       "<Figure size 432x288 with 1 Axes>"
      ]
     },
     "metadata": {
      "needs_background": "light"
     },
     "output_type": "display_data"
    }
   ],
   "source": [
    "# Plot loss values(L2 vs base model)\n",
    "import matplotlib.pyplot as plt\n",
    "\n",
    "plt.figure()\n",
    "plt.plot(trained_model_base.history['loss'], color='red', label='base train')\n",
    "plt.plot(trained_model_base_l2.history['loss'], color='blue', label='l2 train')\n",
    "plt.plot(trained_model_dropout.history['loss'], color='black', label='dropout train')\n",
    "\n",
    "plt.plot(trained_model_base.history['val_loss'], color='green', label='base val')\n",
    "plt.plot(trained_model_base_l2.history['val_loss'], color='orange', label='l2 val')\n",
    "plt.plot(trained_model_base_l2.history['val_loss'], color='pink', label='dropout val')\n",
    "plt.legend()"
   ]
  },
  {
   "cell_type": "code",
   "execution_count": 27,
   "id": "6e0b1f6e",
   "metadata": {},
   "outputs": [],
   "source": [
    "from tensorflow.python.keras.layers import BatchNormalization"
   ]
  },
  {
   "cell_type": "code",
   "execution_count": 28,
   "id": "6838f9c7",
   "metadata": {},
   "outputs": [
    {
     "name": "stdout",
     "output_type": "stream",
     "text": [
      "Model: \"sequential_7\"\n",
      "_________________________________________________________________\n",
      "Layer (type)                 Output Shape              Param #   \n",
      "=================================================================\n",
      "conv2d_8 (Conv2D)            (None, 26, 26, 64)        640       \n",
      "_________________________________________________________________\n",
      "batch_normalization (BatchNo (None, 26, 26, 64)        256       \n",
      "_________________________________________________________________\n",
      "max_pooling2d_8 (MaxPooling2 (None, 13, 13, 64)        0         \n",
      "_________________________________________________________________\n",
      "flatten_8 (Flatten)          (None, 10816)             0         \n",
      "_________________________________________________________________\n",
      "dense_16 (Dense)             (None, 100)               1081700   \n",
      "_________________________________________________________________\n",
      "batch_normalization_1 (Batch (None, 100)               400       \n",
      "_________________________________________________________________\n",
      "dense_17 (Dense)             (None, 10)                1010      \n",
      "=================================================================\n",
      "Total params: 1,084,006\n",
      "Trainable params: 1,083,678\n",
      "Non-trainable params: 328\n",
      "_________________________________________________________________\n",
      "Epoch 1/15\n",
      "938/938 [==============================] - 8s 8ms/step - loss: 0.2084 - accuracy: 0.9366 - val_loss: 0.0886 - val_accuracy: 0.9730\n",
      "Epoch 2/15\n",
      "938/938 [==============================] - 7s 8ms/step - loss: 0.0438 - accuracy: 0.9876 - val_loss: 0.0634 - val_accuracy: 0.9776\n",
      "Epoch 3/15\n",
      "938/938 [==============================] - 7s 8ms/step - loss: 0.0239 - accuracy: 0.9931 - val_loss: 0.0715 - val_accuracy: 0.9792\n",
      "Epoch 4/15\n",
      "938/938 [==============================] - 8s 9ms/step - loss: 0.0171 - accuracy: 0.9948 - val_loss: 0.0599 - val_accuracy: 0.9824\n",
      "Epoch 5/15\n",
      "938/938 [==============================] - 8s 9ms/step - loss: 0.0121 - accuracy: 0.9964 - val_loss: 0.0605 - val_accuracy: 0.9835\n",
      "Epoch 6/15\n",
      "938/938 [==============================] - 8s 9ms/step - loss: 0.0096 - accuracy: 0.9971 - val_loss: 0.0565 - val_accuracy: 0.9833\n",
      "Epoch 7/15\n",
      "938/938 [==============================] - 8s 9ms/step - loss: 0.0088 - accuracy: 0.9973 - val_loss: 0.0568 - val_accuracy: 0.9831\n",
      "Epoch 8/15\n",
      "938/938 [==============================] - 9s 10ms/step - loss: 0.0078 - accuracy: 0.9975 - val_loss: 0.0619 - val_accuracy: 0.9850\n",
      "Epoch 9/15\n",
      "938/938 [==============================] - 9s 10ms/step - loss: 0.0063 - accuracy: 0.9981 - val_loss: 0.0477 - val_accuracy: 0.9863\n",
      "Epoch 10/15\n",
      "938/938 [==============================] - 10s 11ms/step - loss: 0.0044 - accuracy: 0.9989 - val_loss: 0.0545 - val_accuracy: 0.9864\n",
      "Epoch 11/15\n",
      "938/938 [==============================] - 11s 12ms/step - loss: 0.0034 - accuracy: 0.9990 - val_loss: 0.0972 - val_accuracy: 0.9787\n",
      "Epoch 12/15\n",
      "938/938 [==============================] - 13s 14ms/step - loss: 0.0054 - accuracy: 0.9985 - val_loss: 0.0602 - val_accuracy: 0.9848\n",
      "Epoch 13/15\n",
      "938/938 [==============================] - 14s 15ms/step - loss: 0.0042 - accuracy: 0.9987 - val_loss: 0.0572 - val_accuracy: 0.9864\n",
      "Epoch 14/15\n",
      "938/938 [==============================] - 14s 15ms/step - loss: 0.0027 - accuracy: 0.9992 - val_loss: 0.0560 - val_accuracy: 0.9867\n",
      "Epoch 15/15\n",
      "938/938 [==============================] - 14s 15ms/step - loss: 0.0019 - accuracy: 0.9995 - val_loss: 0.0706 - val_accuracy: 0.9842\n"
     ]
    }
   ],
   "source": [
    "# Dropout\n",
    "from tensorflow.python.keras.layers.core import Dropout\n",
    "\n",
    "model = Sequential([\n",
    "    Conv2D(64, 3, activation='relu', input_shape=(28, 28, 1)),\n",
    "    BatchNormalization(),\n",
    "    MaxPooling2D((2,2)),\n",
    "    Flatten(),\n",
    "    Dense(100, activation='relu',),\n",
    "    BatchNormalization(),\n",
    "    Dense(10, activation='softmax')\n",
    "])\n",
    "\n",
    "model.summary()\n",
    "\n",
    "model.compile(loss='categorical_crossentropy', optimizer='adam', metrics=['accuracy'])\n",
    "trained_model_BN = model.fit(X_train, y_train, epochs=15, batch_size=64, validation_data=(X_test, y_test))"
   ]
  },
  {
   "cell_type": "code",
   "execution_count": 29,
   "id": "aaf89bf4",
   "metadata": {},
   "outputs": [
    {
     "data": {
      "text/plain": [
       "<matplotlib.legend.Legend at 0x7fa0d00a2b80>"
      ]
     },
     "execution_count": 29,
     "metadata": {},
     "output_type": "execute_result"
    },
    {
     "data": {
      "image/png": "[encoded data removed]",
      "text/plain": [
       "<Figure size 432x288 with 1 Axes>"
      ]
     },
     "metadata": {
      "needs_background": "light"
     },
     "output_type": "display_data"
    }
   ],
   "source": [
    "# Plot loss values(BN vs base model)\n",
    "import matplotlib.pyplot as plt\n",
    "\n",
    "plt.figure()\n",
    "plt.plot(trained_model_base.history['loss'], color='red', label='base train')\n",
    "plt.plot(trained_model_BN.history['loss'], color='blue', label='BN train')\n",
    "\n",
    "plt.plot(trained_model_base.history['val_loss'], color='green', label='base val')\n",
    "plt.plot(trained_model_BN.history['val_loss'], color='orange', label='BN val')\n",
    "plt.legend()"
   ]
  },
  {
   "cell_type": "code",
   "execution_count": null,
   "id": "5bbcec13",
   "metadata": {},
   "outputs": [],
   "source": []
  }
 ],
 "metadata": {
  "kernelspec": {
   "display_name": "Python 3 (ipykernel)",
   "language": "python",
   "name": "python3"
  },
  "language_info": {
   "codemirror_mode": {
    "name": "ipython",
    "version": 3
   },
   "file_extension": ".py",
   "mimetype": "text/x-python",
   "name": "python",
   "nbconvert_exporter": "python",
   "pygments_lexer": "ipython3",
   "version": "3.9.7"
  }
 },
 "nbformat": 4,
 "nbformat_minor": 5
}
