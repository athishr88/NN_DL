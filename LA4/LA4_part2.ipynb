{
  "nbformat": 4,
  "nbformat_minor": 0,
  "metadata": {
    "colab": {
      "name": "LA4_part2.ipynb",
      "provenance": [],
      "collapsed_sections": [],
      "authorship_tag": "ABX9TyONoxWUeQ2qbN08qE86cMv8",
      "include_colab_link": true
    },
    "kernelspec": {
      "name": "python3",
      "display_name": "Python 3"
    },
    "language_info": {
      "name": "python"
    },
    "accelerator": "GPU"
  },
  "cells": [
    {
      "cell_type": "markdown",
      "metadata": {
        "id": "view-in-github",
        "colab_type": "text"
      },
      "source": [
        "<a href=\"https://colab.research.google.com/github/athishr88/NN_DL/blob/main/LA4/LA4_part2.ipynb\" target=\"_parent\"><img src=\"https://colab.research.google.com/assets/colab-badge.svg\" alt=\"Open In Colab\"/></a>"
      ]
    },
    {
      "cell_type": "markdown",
      "source": [
        "## Best Performing Model"
      ],
      "metadata": {
        "id": "T2aELdBFBbI0"
      }
    },
    {
      "cell_type": "markdown",
      "source": [
        "Data preprocessing"
      ],
      "metadata": {
        "id": "yp1bV3vgEFS5"
      }
    },
    {
      "cell_type": "code",
      "execution_count": 1,
      "metadata": {
        "colab": {
          "base_uri": "https://localhost:8080/",
          "height": 0
        },
        "id": "QJ_FYBevDVkp",
        "outputId": "21e8266d-3597-4215-b13b-f38e3dcc2bb6"
      },
      "outputs": [
        {
          "output_type": "execute_result",
          "data": {
            "text/plain": [
              "{'test': 'https://ivc.ischool.utexas.edu/VizWiz_final/vqa_data/Annotations/test.json',\n",
              " 'train': 'https://ivc.ischool.utexas.edu/VizWiz_final/vqa_data/Annotations/train.json',\n",
              " 'val': 'https://ivc.ischool.utexas.edu/VizWiz_final/vqa_data/Annotations/val.json'}"
            ]
          },
          "metadata": {},
          "execution_count": 1
        }
      ],
      "source": [
        "## Set up the VizWiz-VQA dataset\n",
        "\n",
        "img_dir = \"https://vizwiz.cs.colorado.edu//VizWiz_visualization_img/\"\n",
        "splits = [\"train\", \"val\", \"test\"]\n",
        "dataset_files_dict = {}\n",
        "\n",
        "for split in splits:\n",
        "  annotation_file = \"https://ivc.ischool.utexas.edu/VizWiz_final/vqa_data/Annotations/%s.json\" %split\n",
        "  dataset_files_dict[split] = annotation_file\n",
        "\n",
        "dataset_files_dict"
      ]
    },
    {
      "cell_type": "code",
      "source": [
        "# Read the files to extract train, test, val dataset with label (Only 10% of data will be used in this exercise)\n",
        "import requests\n",
        "import numpy as np\n",
        "import pandas as pd\n",
        "import random\n",
        "\n",
        "fraction_of_data = 0.03\n",
        "\n",
        "def extract_dataset(split):\n",
        "  split_data = requests.get(dataset_files_dict[split], allow_redirects=True)\n",
        "  data_all = split_data.json()\n",
        "  random.shuffle(data_all)\n",
        "  data = data_all[:int(len(data_all)*fraction_of_data)]\n",
        "  data = pd.DataFrame(data)\n",
        "  return data\n",
        "\n",
        "def extract_test_data(split):\n",
        "  split_data = requests.get(dataset_files_dict[split], allow_redirects=True)\n",
        "  data_all = split_data.json()\n",
        "  random.shuffle(data_all)\n",
        "  data = data_all[:1000]\n",
        "  data = pd.DataFrame(data)\n",
        "  return data\n",
        "\n",
        "train_data_raw = extract_dataset(\"train\")\n",
        "val_data_raw = extract_dataset(\"val\")\n",
        "test_data_raw = extract_test_data(\"test\")"
      ],
      "metadata": {
        "id": "-y4OI-gUDa8h"
      },
      "execution_count": 2,
      "outputs": []
    },
    {
      "cell_type": "code",
      "source": [
        "# Visualize train_data_raw\n",
        "train_data_raw.head()"
      ],
      "metadata": {
        "colab": {
          "base_uri": "https://localhost:8080/",
          "height": 206
        },
        "id": "BFO9Bxf0Dd4p",
        "outputId": "04b5f378-a88f-4289-ebd1-b6fbbe8622bf"
      },
      "execution_count": 3,
      "outputs": [
        {
          "output_type": "execute_result",
          "data": {
            "text/plain": [
              "                       image                       question  \\\n",
              "0  VizWiz_train_00012310.jpg             What is this item?   \n",
              "1  VizWiz_train_00023801.jpg    What kind of drink is this?   \n",
              "2  VizWiz_train_00005074.jpg     What color is that please?   \n",
              "3  VizWiz_train_00007053.jpg  What kind of pills are these?   \n",
              "4  VizWiz_train_00008019.jpg               Where is my cat?   \n",
              "\n",
              "                                             answers   answer_type  answerable  \n",
              "0  [{'answer_confidence': 'yes', 'answer': 'mince...         other           1  \n",
              "1  [{'answer': 'pepsi', 'answer_confidence': 'yes...         other           1  \n",
              "2  [{'answer_confidence': 'yes', 'answer': 'red'}...         other           1  \n",
              "3  [{'answer_confidence': 'no', 'answer': 'unsuit...  unanswerable           0  \n",
              "4  [{'answer_confidence': 'yes', 'answer': 'on be...         other           1  "
            ],
            "text/html": [
              "\n",
              "  <div id=\"df-ecae5af3-e5f9-4a6c-b2b4-d382b19f9ed2\">\n",
              "    <div class=\"colab-df-container\">\n",
              "      <div>\n",
              "<style scoped>\n",
              "    .dataframe tbody tr th:only-of-type {\n",
              "        vertical-align: middle;\n",
              "    }\n",
              "\n",
              "    .dataframe tbody tr th {\n",
              "        vertical-align: top;\n",
              "    }\n",
              "\n",
              "    .dataframe thead th {\n",
              "        text-align: right;\n",
              "    }\n",
              "</style>\n",
              "<table border=\"1\" class=\"dataframe\">\n",
              "  <thead>\n",
              "    <tr style=\"text-align: right;\">\n",
              "      <th></th>\n",
              "      <th>image</th>\n",
              "      <th>question</th>\n",
              "      <th>answers</th>\n",
              "      <th>answer_type</th>\n",
              "      <th>answerable</th>\n",
              "    </tr>\n",
              "  </thead>\n",
              "  <tbody>\n",
              "    <tr>\n",
              "      <th>0</th>\n",
              "      <td>VizWiz_train_00012310.jpg</td>\n",
              "      <td>What is this item?</td>\n",
              "      <td>[{'answer_confidence': 'yes', 'answer': 'mince...</td>\n",
              "      <td>other</td>\n",
              "      <td>1</td>\n",
              "    </tr>\n",
              "    <tr>\n",
              "      <th>1</th>\n",
              "      <td>VizWiz_train_00023801.jpg</td>\n",
              "      <td>What kind of drink is this?</td>\n",
              "      <td>[{'answer': 'pepsi', 'answer_confidence': 'yes...</td>\n",
              "      <td>other</td>\n",
              "      <td>1</td>\n",
              "    </tr>\n",
              "    <tr>\n",
              "      <th>2</th>\n",
              "      <td>VizWiz_train_00005074.jpg</td>\n",
              "      <td>What color is that please?</td>\n",
              "      <td>[{'answer_confidence': 'yes', 'answer': 'red'}...</td>\n",
              "      <td>other</td>\n",
              "      <td>1</td>\n",
              "    </tr>\n",
              "    <tr>\n",
              "      <th>3</th>\n",
              "      <td>VizWiz_train_00007053.jpg</td>\n",
              "      <td>What kind of pills are these?</td>\n",
              "      <td>[{'answer_confidence': 'no', 'answer': 'unsuit...</td>\n",
              "      <td>unanswerable</td>\n",
              "      <td>0</td>\n",
              "    </tr>\n",
              "    <tr>\n",
              "      <th>4</th>\n",
              "      <td>VizWiz_train_00008019.jpg</td>\n",
              "      <td>Where is my cat?</td>\n",
              "      <td>[{'answer_confidence': 'yes', 'answer': 'on be...</td>\n",
              "      <td>other</td>\n",
              "      <td>1</td>\n",
              "    </tr>\n",
              "  </tbody>\n",
              "</table>\n",
              "</div>\n",
              "      <button class=\"colab-df-convert\" onclick=\"convertToInteractive('df-ecae5af3-e5f9-4a6c-b2b4-d382b19f9ed2')\"\n",
              "              title=\"Convert this dataframe to an interactive table.\"\n",
              "              style=\"display:none;\">\n",
              "        \n",
              "  <svg xmlns=\"http://www.w3.org/2000/svg\" height=\"24px\"viewBox=\"0 0 24 24\"\n",
              "       width=\"24px\">\n",
              "    <path d=\"M0 0h24v24H0V0z\" fill=\"none\"/>\n",
              "    <path d=\"M18.56 5.44l.94 2.06.94-2.06 2.06-.94-2.06-.94-.94-2.06-.94 2.06-2.06.94zm-11 1L8.5 8.5l.94-2.06 2.06-.94-2.06-.94L8.5 2.5l-.94 2.06-2.06.94zm10 10l.94 2.06.94-2.06 2.06-.94-2.06-.94-.94-2.06-.94 2.06-2.06.94z\"/><path d=\"M17.41 7.96l-1.37-1.37c-.4-.4-.92-.59-1.43-.59-.52 0-1.04.2-1.43.59L10.3 9.45l-7.72 7.72c-.78.78-.78 2.05 0 2.83L4 21.41c.39.39.9.59 1.41.59.51 0 1.02-.2 1.41-.59l7.78-7.78 2.81-2.81c.8-.78.8-2.07 0-2.86zM5.41 20L4 18.59l7.72-7.72 1.47 1.35L5.41 20z\"/>\n",
              "  </svg>\n",
              "      </button>\n",
              "      \n",
              "  <style>\n",
              "    .colab-df-container {\n",
              "      display:flex;\n",
              "      flex-wrap:wrap;\n",
              "      gap: 12px;\n",
              "    }\n",
              "\n",
              "    .colab-df-convert {\n",
              "      background-color: #E8F0FE;\n",
              "      border: none;\n",
              "      border-radius: 50%;\n",
              "      cursor: pointer;\n",
              "      display: none;\n",
              "      fill: #1967D2;\n",
              "      height: 32px;\n",
              "      padding: 0 0 0 0;\n",
              "      width: 32px;\n",
              "    }\n",
              "\n",
              "    .colab-df-convert:hover {\n",
              "      background-color: #E2EBFA;\n",
              "      box-shadow: 0px 1px 2px rgba(60, 64, 67, 0.3), 0px 1px 3px 1px rgba(60, 64, 67, 0.15);\n",
              "      fill: #174EA6;\n",
              "    }\n",
              "\n",
              "    [theme=dark] .colab-df-convert {\n",
              "      background-color: #3B4455;\n",
              "      fill: #D2E3FC;\n",
              "    }\n",
              "\n",
              "    [theme=dark] .colab-df-convert:hover {\n",
              "      background-color: #434B5C;\n",
              "      box-shadow: 0px 1px 3px 1px rgba(0, 0, 0, 0.15);\n",
              "      filter: drop-shadow(0px 1px 2px rgba(0, 0, 0, 0.3));\n",
              "      fill: #FFFFFF;\n",
              "    }\n",
              "  </style>\n",
              "\n",
              "      <script>\n",
              "        const buttonEl =\n",
              "          document.querySelector('#df-ecae5af3-e5f9-4a6c-b2b4-d382b19f9ed2 button.colab-df-convert');\n",
              "        buttonEl.style.display =\n",
              "          google.colab.kernel.accessAllowed ? 'block' : 'none';\n",
              "\n",
              "        async function convertToInteractive(key) {\n",
              "          const element = document.querySelector('#df-ecae5af3-e5f9-4a6c-b2b4-d382b19f9ed2');\n",
              "          const dataTable =\n",
              "            await google.colab.kernel.invokeFunction('convertToInteractive',\n",
              "                                                     [key], {});\n",
              "          if (!dataTable) return;\n",
              "\n",
              "          const docLinkHtml = 'Like what you see? Visit the ' +\n",
              "            '<a target=\"_blank\" href=https://colab.research.google.com/notebooks/data_table.ipynb>data table notebook</a>'\n",
              "            + ' to learn more about interactive tables.';\n",
              "          element.innerHTML = '';\n",
              "          dataTable['output_type'] = 'display_data';\n",
              "          await google.colab.output.renderOutput(dataTable, element);\n",
              "          const docLink = document.createElement('div');\n",
              "          docLink.innerHTML = docLinkHtml;\n",
              "          element.appendChild(docLink);\n",
              "        }\n",
              "      </script>\n",
              "    </div>\n",
              "  </div>\n",
              "  "
            ]
          },
          "metadata": {},
          "execution_count": 3
        }
      ]
    },
    {
      "cell_type": "code",
      "source": [
        "# Remove small amount of unanswerable data (Class balancing)\n",
        "\n",
        "def balance_data(data):\n",
        "  data_answerable = data[data.answerable != 0]\n",
        "  data_unanswerable = data[data.answerable == 0]\n",
        "  data_unanswerable_sample = data_unanswerable.sample(frac=.1)\n",
        "\n",
        "  balanced_data = pd.concat([data_answerable, data_unanswerable_sample], ignore_index = True)\n",
        "  balanced_data.reset_index()\n",
        "  return balanced_data\n",
        "\n",
        "train_data_balanced = balance_data(train_data_raw)\n",
        "val_data_balanced = balance_data(val_data_raw)\n"
      ],
      "metadata": {
        "id": "gYS-Ii_rDgrc"
      },
      "execution_count": 4,
      "outputs": []
    },
    {
      "cell_type": "code",
      "source": [
        "## Create labels\n",
        "# Only the most frequent answer out of the 10 answers is considered as label\n",
        "\n",
        "def most_frequent(List):\n",
        "    return max(set(List), key = List.count)\n",
        "\n",
        "def generate_labels(df):\n",
        "  labels = []\n",
        "  gtlist = df[\"answers\"]\n",
        "\n",
        "  for answers in gtlist:\n",
        "    all_answers = []\n",
        "    for answer in answers:\n",
        "      all_answers.append(answer[\"answer\"])\n",
        "    labels.append(most_frequent(all_answers))\n",
        "  \n",
        "  labels_text = [x.split()[0] for x in labels]\n",
        "  df[\"label\"] = labels_text\n",
        "  \n",
        "  return df\n",
        "\n",
        "train_data_w_labels = generate_labels(train_data_balanced)\n",
        "val_data_w_labels = generate_labels(val_data_balanced)"
      ],
      "metadata": {
        "id": "vhIjO6ljDiWU"
      },
      "execution_count": 5,
      "outputs": []
    },
    {
      "cell_type": "code",
      "source": [
        "train_data_w_labels"
      ],
      "metadata": {
        "colab": {
          "base_uri": "https://localhost:8080/",
          "height": 423
        },
        "id": "LcN4zGJ-0bq9",
        "outputId": "67152a5e-56e5-4be4-fb21-2b428751fbd8"
      },
      "execution_count": 11,
      "outputs": [
        {
          "output_type": "execute_result",
          "data": {
            "text/plain": [
              "                         image  \\\n",
              "0    VizWiz_train_00012310.jpg   \n",
              "1    VizWiz_train_00023801.jpg   \n",
              "2    VizWiz_train_00005074.jpg   \n",
              "3    VizWiz_train_00008019.jpg   \n",
              "4    VizWiz_train_00012829.jpg   \n",
              "..                         ...   \n",
              "458  VizWiz_train_00004338.jpg   \n",
              "459  VizWiz_train_00019921.jpg   \n",
              "460  VizWiz_train_00011205.jpg   \n",
              "461  VizWiz_train_00018883.jpg   \n",
              "462  VizWiz_train_00018939.jpg   \n",
              "\n",
              "                                              question  \\\n",
              "0                                   What is this item?   \n",
              "1                          What kind of drink is this?   \n",
              "2                           What color is that please?   \n",
              "3                                     Where is my cat?   \n",
              "4                                 What season is this?   \n",
              "..                                                 ...   \n",
              "458  What is this box? I'm not sure if I have the c...   \n",
              "459                               Wat is that, please?   \n",
              "460                       What is the expiration date?   \n",
              "461                    What flavor is this energy bar?   \n",
              "462              Hi, what kind of can is this? Thanks.   \n",
              "\n",
              "                                               answers   answer_type  \\\n",
              "0    [{'answer_confidence': 'yes', 'answer': 'mince...         other   \n",
              "1    [{'answer': 'pepsi', 'answer_confidence': 'yes...         other   \n",
              "2    [{'answer_confidence': 'yes', 'answer': 'red'}...         other   \n",
              "3    [{'answer_confidence': 'yes', 'answer': 'on be...         other   \n",
              "4    [{'answer_confidence': 'yes', 'answer': 'spagh...         other   \n",
              "..                                                 ...           ...   \n",
              "458  [{'answer_confidence': 'maybe', 'answer': 'fee...  unanswerable   \n",
              "459  [{'answer_confidence': 'yes', 'answer': 'unsui...  unanswerable   \n",
              "460  [{'answer_confidence': 'yes', 'answer': 'unans...  unanswerable   \n",
              "461  [{'answer_confidence': 'yes', 'answer': 'unsui...  unanswerable   \n",
              "462  [{'answer_confidence': 'no', 'answer': 'unsuit...  unanswerable   \n",
              "\n",
              "     answerable         label  \n",
              "0             1        minced  \n",
              "1             1         pepsi  \n",
              "2             1           red  \n",
              "3             1           bed  \n",
              "4             1     spaghetti  \n",
              "..          ...           ...  \n",
              "458           0    unsuitable  \n",
              "459           0    unsuitable  \n",
              "460           0  unanswerable  \n",
              "461           0    unsuitable  \n",
              "462           0    unsuitable  \n",
              "\n",
              "[463 rows x 6 columns]"
            ],
            "text/html": [
              "\n",
              "  <div id=\"df-dd01faa7-8f17-46be-a575-23f112587b63\">\n",
              "    <div class=\"colab-df-container\">\n",
              "      <div>\n",
              "<style scoped>\n",
              "    .dataframe tbody tr th:only-of-type {\n",
              "        vertical-align: middle;\n",
              "    }\n",
              "\n",
              "    .dataframe tbody tr th {\n",
              "        vertical-align: top;\n",
              "    }\n",
              "\n",
              "    .dataframe thead th {\n",
              "        text-align: right;\n",
              "    }\n",
              "</style>\n",
              "<table border=\"1\" class=\"dataframe\">\n",
              "  <thead>\n",
              "    <tr style=\"text-align: right;\">\n",
              "      <th></th>\n",
              "      <th>image</th>\n",
              "      <th>question</th>\n",
              "      <th>answers</th>\n",
              "      <th>answer_type</th>\n",
              "      <th>answerable</th>\n",
              "      <th>label</th>\n",
              "    </tr>\n",
              "  </thead>\n",
              "  <tbody>\n",
              "    <tr>\n",
              "      <th>0</th>\n",
              "      <td>VizWiz_train_00012310.jpg</td>\n",
              "      <td>What is this item?</td>\n",
              "      <td>[{'answer_confidence': 'yes', 'answer': 'mince...</td>\n",
              "      <td>other</td>\n",
              "      <td>1</td>\n",
              "      <td>minced</td>\n",
              "    </tr>\n",
              "    <tr>\n",
              "      <th>1</th>\n",
              "      <td>VizWiz_train_00023801.jpg</td>\n",
              "      <td>What kind of drink is this?</td>\n",
              "      <td>[{'answer': 'pepsi', 'answer_confidence': 'yes...</td>\n",
              "      <td>other</td>\n",
              "      <td>1</td>\n",
              "      <td>pepsi</td>\n",
              "    </tr>\n",
              "    <tr>\n",
              "      <th>2</th>\n",
              "      <td>VizWiz_train_00005074.jpg</td>\n",
              "      <td>What color is that please?</td>\n",
              "      <td>[{'answer_confidence': 'yes', 'answer': 'red'}...</td>\n",
              "      <td>other</td>\n",
              "      <td>1</td>\n",
              "      <td>red</td>\n",
              "    </tr>\n",
              "    <tr>\n",
              "      <th>3</th>\n",
              "      <td>VizWiz_train_00008019.jpg</td>\n",
              "      <td>Where is my cat?</td>\n",
              "      <td>[{'answer_confidence': 'yes', 'answer': 'on be...</td>\n",
              "      <td>other</td>\n",
              "      <td>1</td>\n",
              "      <td>bed</td>\n",
              "    </tr>\n",
              "    <tr>\n",
              "      <th>4</th>\n",
              "      <td>VizWiz_train_00012829.jpg</td>\n",
              "      <td>What season is this?</td>\n",
              "      <td>[{'answer_confidence': 'yes', 'answer': 'spagh...</td>\n",
              "      <td>other</td>\n",
              "      <td>1</td>\n",
              "      <td>spaghetti</td>\n",
              "    </tr>\n",
              "    <tr>\n",
              "      <th>...</th>\n",
              "      <td>...</td>\n",
              "      <td>...</td>\n",
              "      <td>...</td>\n",
              "      <td>...</td>\n",
              "      <td>...</td>\n",
              "      <td>...</td>\n",
              "    </tr>\n",
              "    <tr>\n",
              "      <th>458</th>\n",
              "      <td>VizWiz_train_00004338.jpg</td>\n",
              "      <td>What is this box? I'm not sure if I have the c...</td>\n",
              "      <td>[{'answer_confidence': 'maybe', 'answer': 'fee...</td>\n",
              "      <td>unanswerable</td>\n",
              "      <td>0</td>\n",
              "      <td>unsuitable</td>\n",
              "    </tr>\n",
              "    <tr>\n",
              "      <th>459</th>\n",
              "      <td>VizWiz_train_00019921.jpg</td>\n",
              "      <td>Wat is that, please?</td>\n",
              "      <td>[{'answer_confidence': 'yes', 'answer': 'unsui...</td>\n",
              "      <td>unanswerable</td>\n",
              "      <td>0</td>\n",
              "      <td>unsuitable</td>\n",
              "    </tr>\n",
              "    <tr>\n",
              "      <th>460</th>\n",
              "      <td>VizWiz_train_00011205.jpg</td>\n",
              "      <td>What is the expiration date?</td>\n",
              "      <td>[{'answer_confidence': 'yes', 'answer': 'unans...</td>\n",
              "      <td>unanswerable</td>\n",
              "      <td>0</td>\n",
              "      <td>unanswerable</td>\n",
              "    </tr>\n",
              "    <tr>\n",
              "      <th>461</th>\n",
              "      <td>VizWiz_train_00018883.jpg</td>\n",
              "      <td>What flavor is this energy bar?</td>\n",
              "      <td>[{'answer_confidence': 'yes', 'answer': 'unsui...</td>\n",
              "      <td>unanswerable</td>\n",
              "      <td>0</td>\n",
              "      <td>unsuitable</td>\n",
              "    </tr>\n",
              "    <tr>\n",
              "      <th>462</th>\n",
              "      <td>VizWiz_train_00018939.jpg</td>\n",
              "      <td>Hi, what kind of can is this? Thanks.</td>\n",
              "      <td>[{'answer_confidence': 'no', 'answer': 'unsuit...</td>\n",
              "      <td>unanswerable</td>\n",
              "      <td>0</td>\n",
              "      <td>unsuitable</td>\n",
              "    </tr>\n",
              "  </tbody>\n",
              "</table>\n",
              "<p>463 rows × 6 columns</p>\n",
              "</div>\n",
              "      <button class=\"colab-df-convert\" onclick=\"convertToInteractive('df-dd01faa7-8f17-46be-a575-23f112587b63')\"\n",
              "              title=\"Convert this dataframe to an interactive table.\"\n",
              "              style=\"display:none;\">\n",
              "        \n",
              "  <svg xmlns=\"http://www.w3.org/2000/svg\" height=\"24px\"viewBox=\"0 0 24 24\"\n",
              "       width=\"24px\">\n",
              "    <path d=\"M0 0h24v24H0V0z\" fill=\"none\"/>\n",
              "    <path d=\"M18.56 5.44l.94 2.06.94-2.06 2.06-.94-2.06-.94-.94-2.06-.94 2.06-2.06.94zm-11 1L8.5 8.5l.94-2.06 2.06-.94-2.06-.94L8.5 2.5l-.94 2.06-2.06.94zm10 10l.94 2.06.94-2.06 2.06-.94-2.06-.94-.94-2.06-.94 2.06-2.06.94z\"/><path d=\"M17.41 7.96l-1.37-1.37c-.4-.4-.92-.59-1.43-.59-.52 0-1.04.2-1.43.59L10.3 9.45l-7.72 7.72c-.78.78-.78 2.05 0 2.83L4 21.41c.39.39.9.59 1.41.59.51 0 1.02-.2 1.41-.59l7.78-7.78 2.81-2.81c.8-.78.8-2.07 0-2.86zM5.41 20L4 18.59l7.72-7.72 1.47 1.35L5.41 20z\"/>\n",
              "  </svg>\n",
              "      </button>\n",
              "      \n",
              "  <style>\n",
              "    .colab-df-container {\n",
              "      display:flex;\n",
              "      flex-wrap:wrap;\n",
              "      gap: 12px;\n",
              "    }\n",
              "\n",
              "    .colab-df-convert {\n",
              "      background-color: #E8F0FE;\n",
              "      border: none;\n",
              "      border-radius: 50%;\n",
              "      cursor: pointer;\n",
              "      display: none;\n",
              "      fill: #1967D2;\n",
              "      height: 32px;\n",
              "      padding: 0 0 0 0;\n",
              "      width: 32px;\n",
              "    }\n",
              "\n",
              "    .colab-df-convert:hover {\n",
              "      background-color: #E2EBFA;\n",
              "      box-shadow: 0px 1px 2px rgba(60, 64, 67, 0.3), 0px 1px 3px 1px rgba(60, 64, 67, 0.15);\n",
              "      fill: #174EA6;\n",
              "    }\n",
              "\n",
              "    [theme=dark] .colab-df-convert {\n",
              "      background-color: #3B4455;\n",
              "      fill: #D2E3FC;\n",
              "    }\n",
              "\n",
              "    [theme=dark] .colab-df-convert:hover {\n",
              "      background-color: #434B5C;\n",
              "      box-shadow: 0px 1px 3px 1px rgba(0, 0, 0, 0.15);\n",
              "      filter: drop-shadow(0px 1px 2px rgba(0, 0, 0, 0.3));\n",
              "      fill: #FFFFFF;\n",
              "    }\n",
              "  </style>\n",
              "\n",
              "      <script>\n",
              "        const buttonEl =\n",
              "          document.querySelector('#df-dd01faa7-8f17-46be-a575-23f112587b63 button.colab-df-convert');\n",
              "        buttonEl.style.display =\n",
              "          google.colab.kernel.accessAllowed ? 'block' : 'none';\n",
              "\n",
              "        async function convertToInteractive(key) {\n",
              "          const element = document.querySelector('#df-dd01faa7-8f17-46be-a575-23f112587b63');\n",
              "          const dataTable =\n",
              "            await google.colab.kernel.invokeFunction('convertToInteractive',\n",
              "                                                     [key], {});\n",
              "          if (!dataTable) return;\n",
              "\n",
              "          const docLinkHtml = 'Like what you see? Visit the ' +\n",
              "            '<a target=\"_blank\" href=https://colab.research.google.com/notebooks/data_table.ipynb>data table notebook</a>'\n",
              "            + ' to learn more about interactive tables.';\n",
              "          element.innerHTML = '';\n",
              "          dataTable['output_type'] = 'display_data';\n",
              "          await google.colab.output.renderOutput(dataTable, element);\n",
              "          const docLink = document.createElement('div');\n",
              "          docLink.innerHTML = docLinkHtml;\n",
              "          element.appendChild(docLink);\n",
              "        }\n",
              "      </script>\n",
              "    </div>\n",
              "  </div>\n",
              "  "
            ]
          },
          "metadata": {},
          "execution_count": 11
        }
      ]
    },
    {
      "cell_type": "code",
      "source": [
        "# Modulizing\n",
        "\n",
        "train_images = train_data_w_labels[\"image\"] \n",
        "train_questions = train_data_w_labels[\"question\"]\n",
        "train_labels_text = train_data_w_labels[\"label\"]\n",
        "\n",
        "val_images = val_data_w_labels[\"image\"] \n",
        "val_questions = val_data_w_labels[\"question\"]\n",
        "val_labels_text = val_data_w_labels[\"label\"]\n",
        "\n",
        "test_images = test_data_raw[\"image\"]\n",
        "test_questions = test_data_raw[\"question\"]\n",
        "\n",
        "print(len(train_images), len(train_labels_text))"
      ],
      "metadata": {
        "colab": {
          "base_uri": "https://localhost:8080/",
          "height": 0
        },
        "id": "VfpPf7gLDkbA",
        "outputId": "a0a8fc31-5098-43fb-b887-67d3652494b4"
      },
      "execution_count": 6,
      "outputs": [
        {
          "output_type": "stream",
          "name": "stdout",
          "text": [
            "463 463\n"
          ]
        }
      ]
    },
    {
      "cell_type": "code",
      "source": [
        "# Check how many unique classes are there in training set\n",
        "print(\"Classes: \", len(np.unique(train_labels_text)))"
      ],
      "metadata": {
        "colab": {
          "base_uri": "https://localhost:8080/",
          "height": 0
        },
        "id": "cfaZNTssDnIB",
        "outputId": "13839836-c4d6-4c5e-af2d-1ee2df9ef31e"
      },
      "execution_count": 7,
      "outputs": [
        {
          "output_type": "stream",
          "name": "stdout",
          "text": [
            "Classes:  259\n"
          ]
        }
      ]
    },
    {
      "cell_type": "code",
      "source": [
        "# Taking the most common 40 labels\n",
        "from collections import Counter\n",
        "\n",
        "Counter = Counter(train_labels_text)\n",
        "most_occur = Counter.most_common(200)\n",
        "classes = [x[0] for x in most_occur]\n",
        "class_to_index = dict((c,i) for i, c in enumerate(classes))\n",
        "index_to_class = dict((i, c) for i, c in enumerate(classes))\n",
        "names_to_ids = lambda labels: np.array([class_to_index.get(x) for x in labels])\n",
        "\n",
        "## Convert the train labels to corresponding int values\n",
        "train_labels = names_to_ids(train_labels_text)\n",
        "val_labels = names_to_ids(val_labels_text)"
      ],
      "metadata": {
        "id": "Xh1N0YlMDpPo"
      },
      "execution_count": 20,
      "outputs": []
    },
    {
      "cell_type": "code",
      "source": [
        "# Additional class \"unknown\" is defined to accomodate unknown classes\n",
        "\n",
        "class_to_index[\"unknown\"] = len(class_to_index)-1\n",
        "index_to_class[len(class_to_index)-1] = \"unknown\"\n",
        "\n",
        "val_labels[val_labels==None] = len(class_to_index)-1\n",
        "train_labels[train_labels==None] = len(class_to_index)-1"
      ],
      "metadata": {
        "id": "NDqbb_cKDrfU"
      },
      "execution_count": 21,
      "outputs": []
    },
    {
      "cell_type": "code",
      "source": [
        "## Create our Text Vectorizer to index our vocabulary based on the train samples \n",
        "from keras.layers import TextVectorization\n",
        "import tensorflow as tf\n",
        "\n",
        "vectorizer = TextVectorization(max_tokens=10000, output_sequence_length=100)\n",
        "text_ds = tf.data.Dataset.from_tensor_slices(train_questions).batch(128) ## Read batches of 128 samples\n",
        "vectorizer.adapt(text_ds)"
      ],
      "metadata": {
        "id": "3ff7veTrDs_Q"
      },
      "execution_count": 16,
      "outputs": []
    },
    {
      "cell_type": "code",
      "source": [
        "## Create a map to get the unique list of the vocabulary\n",
        "voc = vectorizer.get_vocabulary()\n",
        "word_index = dict(zip(voc, range(len(voc))))"
      ],
      "metadata": {
        "id": "AKZN9tOtDuq8"
      },
      "execution_count": 17,
      "outputs": []
    },
    {
      "cell_type": "code",
      "source": [
        "# Prepare vectorized train, val and test data\n",
        "\n",
        "x_train_questions = vectorizer(np.array([[s] for s in train_questions])).numpy()\n",
        "x_val_questions = vectorizer(np.array([[s] for s in val_questions])).numpy()\n",
        "x_test_questions = vectorizer(np.array([[s] for s in test_questions])).numpy()\n",
        "\n",
        "y_train = np.array(train_labels)\n",
        "y_val = np.array(val_labels)"
      ],
      "metadata": {
        "id": "xWMLixF8Dwig"
      },
      "execution_count": 18,
      "outputs": []
    },
    {
      "cell_type": "code",
      "source": [
        "# Preparing image data\n",
        "import cv2\n",
        "from skimage import io\n",
        "\n",
        "def generate_image_dataset(urls):\n",
        "  print(len(urls))\n",
        "  image_data = []\n",
        "  for i, image_name in enumerate(urls):\n",
        "    image_url = img_dir + image_name\n",
        "    image = io.imread(image_url)\n",
        "    image = cv2.resize(image, (224, 224))\n",
        "    image = image/255.0\n",
        "    image_data.append(image)\n",
        "    print('\\r', i, end='')\n",
        "  print(\"\\n\")\n",
        "  return image_data\n",
        "\n",
        "x_train_images = generate_image_dataset(train_images)\n",
        "x_val_images = generate_image_dataset(val_images)\n",
        "x_test_images = generate_image_dataset(test_images)\n",
        "print(len(x_train_images), len(x_val_images))"
      ],
      "metadata": {
        "colab": {
          "base_uri": "https://localhost:8080/",
          "height": 0
        },
        "id": "Djx9soYuDzUM",
        "outputId": "b945d42d-003b-4297-c546-8123c59902ad"
      },
      "execution_count": 19,
      "outputs": [
        {
          "output_type": "stream",
          "name": "stdout",
          "text": [
            "463\n",
            " 462\n",
            "\n",
            "90\n",
            " 89\n",
            "\n",
            "1000\n",
            " 999\n",
            "\n",
            "463 90\n"
          ]
        }
      ]
    },
    {
      "cell_type": "code",
      "source": [
        "# Convert to tensor\n",
        "\n",
        "x_train_imgs = tf.convert_to_tensor(np.array(x_train_images), dtype=tf.float32)\n",
        "x_val_imgs = tf.convert_to_tensor(np.array(x_val_images), dtype=tf.float32)\n",
        "x_test_imgs = tf.convert_to_tensor(np.array(x_test_images), dtype=tf.float32)\n",
        "y_train = tf.convert_to_tensor(np.array(y_train), dtype=tf.float32)\n",
        "y_val = tf.convert_to_tensor(np.array(y_val), dtype=tf.float32)"
      ],
      "metadata": {
        "id": "CqZ-P_TeD064"
      },
      "execution_count": 23,
      "outputs": []
    },
    {
      "cell_type": "code",
      "source": [
        "## Download and unzip the Stanford GloVe model (pretrained word embeddings)\n",
        "!wget http://nlp.stanford.edu/data/glove.6B.zip\n",
        "!unzip -q glove.6B.zip"
      ],
      "metadata": {
        "colab": {
          "base_uri": "https://localhost:8080/",
          "height": 0
        },
        "id": "8QlArbFLEHtA",
        "outputId": "62a7f29c-69d5-4287-caaf-6db3c0b363d6"
      },
      "execution_count": 24,
      "outputs": [
        {
          "output_type": "stream",
          "name": "stdout",
          "text": [
            "--2022-04-01 06:38:42--  http://nlp.stanford.edu/data/glove.6B.zip\n",
            "Resolving nlp.stanford.edu (nlp.stanford.edu)... 171.64.67.140\n",
            "Connecting to nlp.stanford.edu (nlp.stanford.edu)|171.64.67.140|:80... connected.\n",
            "HTTP request sent, awaiting response... 302 Found\n",
            "Location: https://nlp.stanford.edu/data/glove.6B.zip [following]\n",
            "--2022-04-01 06:38:42--  https://nlp.stanford.edu/data/glove.6B.zip\n",
            "Connecting to nlp.stanford.edu (nlp.stanford.edu)|171.64.67.140|:443... connected.\n",
            "HTTP request sent, awaiting response... 301 Moved Permanently\n",
            "Location: http://downloads.cs.stanford.edu/nlp/data/glove.6B.zip [following]\n",
            "--2022-04-01 06:38:42--  http://downloads.cs.stanford.edu/nlp/data/glove.6B.zip\n",
            "Resolving downloads.cs.stanford.edu (downloads.cs.stanford.edu)... 171.64.64.22\n",
            "Connecting to downloads.cs.stanford.edu (downloads.cs.stanford.edu)|171.64.64.22|:80... connected.\n",
            "HTTP request sent, awaiting response... 200 OK\n",
            "Length: 862182613 (822M) [application/zip]\n",
            "Saving to: ‘glove.6B.zip’\n",
            "\n",
            "glove.6B.zip        100%[===================>] 822.24M  5.29MB/s    in 2m 40s  \n",
            "\n",
            "2022-04-01 06:41:22 (5.14 MB/s) - ‘glove.6B.zip’ saved [862182613/862182613]\n",
            "\n"
          ]
        }
      ]
    },
    {
      "cell_type": "code",
      "source": [
        "## Read the embeddings in the pretrained model (we are using the 100D version of GloVe)\n",
        "import os\n",
        "path_to_glove_file = \"glove.6B.100d.txt\"\n",
        "\n",
        "embeddings_index = {}\n",
        "with open(path_to_glove_file) as f:\n",
        "    for line in f:\n",
        "        word, coefs = line.split(maxsplit=1)\n",
        "        coefs = np.fromstring(coefs, \"f\", sep=\" \")\n",
        "        embeddings_index[word] = coefs\n",
        "\n",
        "print(\"Found %s word vectors.\" % len(embeddings_index))"
      ],
      "metadata": {
        "colab": {
          "base_uri": "https://localhost:8080/",
          "height": 0
        },
        "id": "lzvm8ugIEMeJ",
        "outputId": "dfebc013-8c71-4818-f204-a0c33978f624"
      },
      "execution_count": 25,
      "outputs": [
        {
          "output_type": "stream",
          "name": "stdout",
          "text": [
            "Found 400000 word vectors.\n"
          ]
        }
      ]
    },
    {
      "cell_type": "code",
      "source": [
        "## Create \"embedding_matrix\" to index our vocabulary using the GloVe model \n",
        "num_tokens = len(voc) \n",
        "embedding_dim = 100 ## 100 dimensions\n",
        "hits = 0 ## number of words that were found in the pretrained model\n",
        "misses = 0 ## number of words that were missing in the pretrained model\n",
        "\n",
        "# Prepare embedding matrix for our word list\n",
        "embedding_matrix = np.zeros((num_tokens, embedding_dim))\n",
        "for word, i in word_index.items():\n",
        "    embedding_vector = embeddings_index.get(word)\n",
        "    if embedding_vector is not None:\n",
        "        # Words not found in embedding index will be all-zeros.\n",
        "        # This includes the representation for \"padding\" and \"OOV\"\n",
        "        embedding_matrix[i] = embedding_vector\n",
        "        hits += 1\n",
        "    else:\n",
        "        misses += 1\n",
        "print(\"Converted %d words (%d misses)\" % (hits, misses))"
      ],
      "metadata": {
        "colab": {
          "base_uri": "https://localhost:8080/",
          "height": 0
        },
        "id": "W7WpMpsbEOrz",
        "outputId": "96123a13-ac9b-4153-9f6c-c63714ea8a13"
      },
      "execution_count": 26,
      "outputs": [
        {
          "output_type": "stream",
          "name": "stdout",
          "text": [
            "Converted 425 words (9 misses)\n"
          ]
        }
      ]
    },
    {
      "cell_type": "code",
      "source": [
        "## Define our embedding layer for the training model \n",
        "## We load our embedding_matrix as the initializer and set trainable to False to avoid retraining this layer\n",
        "\n",
        "from keras.layers import Embedding, Concatenate\n",
        "from keras.initializers import Constant\n",
        "\n",
        "embedding_layer = Embedding(num_tokens, embedding_dim,\n",
        "                            embeddings_initializer= Constant(embedding_matrix), \n",
        "                            trainable=False,\n",
        ")"
      ],
      "metadata": {
        "id": "C8SddJPCEQ8Y"
      },
      "execution_count": 27,
      "outputs": []
    },
    {
      "cell_type": "markdown",
      "source": [
        "Model"
      ],
      "metadata": {
        "id": "QjXJ7TXEEOF-"
      }
    },
    {
      "cell_type": "code",
      "source": [
        "# Image and question model\n",
        "\n",
        "from keras import layers, Input, Model\n",
        "from keras.models import Sequential\n",
        "from keras.layers.core import Dense, Dropout, Flatten\n",
        "from keras.layers.convolutional import Conv2D, MaxPooling2D\n",
        "from keras.layers import Activation, LSTM, Embedding, Multiply\n",
        "import keras,os\n",
        "from keras.preprocessing.image import ImageDataGenerator\n",
        "import numpy as np\n",
        "from keras.initializers import Constant\n",
        "from keras.layers import BatchNormalization\n",
        "\n",
        "def image_model(dropout_rate=0.2):\n",
        "  image_input = Input(shape=(224,224,3), dtype=\"float32\")\n",
        "  x = Conv2D(filters=64,kernel_size=(3,3),padding=\"same\", activation=\"relu\")(image_input)\n",
        "  x = Conv2D(filters=64,kernel_size=(3,3),padding=\"same\", activation=\"relu\")(x)\n",
        "  x = MaxPooling2D(pool_size=(2,2),strides=(2,2))(x)\n",
        "  x = Conv2D(filters=128, kernel_size=(3,3), padding=\"same\", activation=\"relu\")(x)\n",
        "  x = Conv2D(filters=128, kernel_size=(3,3), padding=\"same\", activation=\"relu\")(x)\n",
        "  x = MaxPooling2D(pool_size=(2,2),strides=(2,2))(x)\n",
        "  x = Conv2D(filters=256, kernel_size=(3,3), padding=\"same\", activation=\"relu\")(x)\n",
        "  x = Conv2D(filters=256, kernel_size=(3,3), padding=\"same\", activation=\"relu\")(x)\n",
        "  x = Conv2D(filters=256, kernel_size=(3,3), padding=\"same\", activation=\"relu\")(x)\n",
        "  x = MaxPooling2D(pool_size=(2,2),strides=(2,2))(x)\n",
        "  x = Conv2D(filters=512, kernel_size=(3,3), padding=\"same\", activation=\"relu\")(x)\n",
        "  x = Conv2D(filters=512, kernel_size=(3,3), padding=\"same\", activation=\"relu\")(x)\n",
        "  x = Conv2D(filters=512, kernel_size=(3,3), padding=\"same\", activation=\"relu\")(x)\n",
        "  x = MaxPooling2D(pool_size=(2,2),strides=(2,2))(x)\n",
        "  x = Conv2D(filters=512, kernel_size=(3,3), padding=\"same\", activation=\"relu\")(x)\n",
        "  x = Conv2D(filters=512, kernel_size=(3,3), padding=\"same\", activation=\"relu\")(x)\n",
        "  x = Conv2D(filters=512, kernel_size=(3,3), padding=\"same\", activation=\"relu\")(x)\n",
        "  x = MaxPooling2D(pool_size=(2,2),strides=(2,2))(x)\n",
        "  x = Flatten()(x)\n",
        "  x = Dense(units=4096,activation=\"relu\")(x)\n",
        "  x = Dropout(dropout_rate)(x)\n",
        "  x = Dense(units=4096,activation=\"relu\")(x)\n",
        "  preds = Dense(units=1000, activation=\"relu\")(x)\n",
        "  # model = Model(image_input, preds)\n",
        "  return image_input, preds\n",
        "\n",
        "def question_model(dropout_rate=0.2):\n",
        "  int_sequences_input = Input(shape=(None,), dtype=\"float32\")\n",
        "  embedded_sequences = embedding_layer(int_sequences_input)\n",
        "  x = layers.Bidirectional(layers.LSTM(20, return_sequences=True))(embedded_sequences)\n",
        "  x = Dropout(dropout_rate)(x)\n",
        "  x = layers.Bidirectional(layers.LSTM(20))(x)\n",
        "  x = BatchNormalization()(x)\n",
        "  x = layers.Dense(1000, activation=\"relu\")(x)\n",
        "  preds = BatchNormalization()(x)\n",
        "  # model = Model(int_sequences_input, preds)\n",
        "  return int_sequences_input, preds\n"
      ],
      "metadata": {
        "id": "QurzGiuAEVvv"
      },
      "execution_count": 28,
      "outputs": []
    },
    {
      "cell_type": "code",
      "source": [
        "# VQA model\n",
        "\n",
        "def vqa_model(dropout_rate=0.2, num_classes=200):\n",
        "    img_input, img_output = image_model()\n",
        "    lstm_input, lstm_output = question_model()\n",
        "    print(\"Merging final model...\")\n",
        "    x = tf.keras.layers.Concatenate(axis=1)([img_output, lstm_output])\n",
        "    \n",
        "    # x = Dropout(dropout_rate)(x)\n",
        "    # x = Dense(1000, activation='relu')(x)\n",
        "    # x = BatchNormalization()(x)\n",
        "    # x = Dropout(dropout_rate)(x)\n",
        "    # x = Dense(1000, activation='relu')(x)\n",
        "    # x = BatchNormalization()(x)\n",
        "    # x = Dropout(dropout_rate)(x)\n",
        "    x = Dense(1000, activation='relu')(x)\n",
        "    x = BatchNormalization()(x)\n",
        "    x = Dropout(dropout_rate)(x)\n",
        "    preds = Dense(num_classes, activation='softmax')(x)\n",
        "    model = Model((img_input, lstm_input), preds)\n",
        "    # print(model.summary())\n",
        "    return model"
      ],
      "metadata": {
        "id": "7ncO1HYhGsbM"
      },
      "execution_count": 31,
      "outputs": []
    },
    {
      "cell_type": "code",
      "source": [
        "# Compiling the model\n",
        "\n",
        "from tensorflow import keras\n",
        "\n",
        "fc_model = vqa_model()\n",
        "# opt = keras.optimizers.Adam(learning_rate=0.00001)\n",
        "\n",
        "fc_model.compile(optimizer=\"adam\", loss='sparse_categorical_crossentropy',\n",
        "                  metrics=['accuracy'])\n",
        "# Training the model\n",
        "\n",
        "history = fc_model.fit((x_train_imgs, x_train_questions), y_train, epochs=6, batch_size=20, validation_data=((x_val_imgs, x_val_questions), y_val))\n",
        "\n"
      ],
      "metadata": {
        "colab": {
          "base_uri": "https://localhost:8080/",
          "height": 0
        },
        "id": "nwfW5TtuHD20",
        "outputId": "7fbc05cc-280b-48d3-b2e7-901de4e66d67"
      },
      "execution_count": 33,
      "outputs": [
        {
          "output_type": "stream",
          "name": "stdout",
          "text": [
            "Merging final model...\n",
            "Epoch 1/6\n",
            "24/24 [==============================] - 88s 911ms/step - loss: 5.4684 - accuracy: 0.0972 - val_loss: 42620208.0000 - val_accuracy: 0.0000e+00\n",
            "Epoch 2/6\n",
            "24/24 [==============================] - 18s 746ms/step - loss: 4.6401 - accuracy: 0.2527 - val_loss: 1285931.2500 - val_accuracy: 0.0222\n",
            "Epoch 3/6\n",
            "24/24 [==============================] - 18s 748ms/step - loss: 3.6850 - accuracy: 0.4060 - val_loss: 4.3175 - val_accuracy: 0.1667\n",
            "Epoch 4/6\n",
            "24/24 [==============================] - 18s 748ms/step - loss: 2.8036 - accuracy: 0.4687 - val_loss: 31.3357 - val_accuracy: 0.0000e+00\n",
            "Epoch 5/6\n",
            "24/24 [==============================] - 18s 744ms/step - loss: 2.6577 - accuracy: 0.4687 - val_loss: 7.4652 - val_accuracy: 0.1444\n",
            "Epoch 6/6\n",
            "24/24 [==============================] - 18s 748ms/step - loss: 2.5504 - accuracy: 0.4557 - val_loss: 5.7628 - val_accuracy: 0.1000\n"
          ]
        }
      ]
    },
    {
      "cell_type": "code",
      "source": [
        "# Evaluation\n",
        "loss, acc = fc_model.evaluate((x_val_imgs, x_val_questions), y_val, verbose =0)"
      ],
      "metadata": {
        "id": "NzKdAn7ajyBq"
      },
      "execution_count": 38,
      "outputs": []
    },
    {
      "cell_type": "code",
      "source": [
        "# Plotting loss values\n",
        "import matplotlib.pyplot as plt\n",
        "\n",
        "plt.figure()\n",
        "plt.plot(history.history['loss'], color='red', label='Train set loss')\n",
        "\n",
        "plt.plot(history.history['val_loss'], color='blue', label='Validation set loss')\n",
        "plt.title(\"Plot\")\n",
        "plt.ylabel(\"Loss\")\n",
        "plt.xlabel(\"Number of epochs\")\n",
        "\n",
        "plt.legend()\n",
        "plt.show()"
      ],
      "metadata": {
        "colab": {
          "base_uri": "https://localhost:8080/",
          "height": 295
        },
        "id": "xxDy7mGrj3E-",
        "outputId": "c1f6ebc8-bbe6-4811-9f3b-4d31eb48402f"
      },
      "execution_count": 39,
      "outputs": [
        {
          "output_type": "display_data",
          "data": {
            "text/plain": [
              "<Figure size 432x288 with 1 Axes>"
            ],
            "image/png": "[encoded data removed]"
          },
          "metadata": {
            "needs_background": "light"
          }
        }
      ]
    },
    {
      "cell_type": "code",
      "source": [
        "# Plotting accuracy values\n",
        "plt.figure()\n",
        "plt.plot(history.history['accuracy'], color='red', label='Train set accuracy')\n",
        "\n",
        "plt.plot(history.history['val_accuracy'], color='blue', label='Validation set accuracy')\n",
        "plt.title(\"Plot\")\n",
        "plt.ylabel(\"accuracy\")\n",
        "plt.xlabel(\"Number of epochs\")\n",
        "\n",
        "plt.legend()\n",
        "plt.show()"
      ],
      "metadata": {
        "colab": {
          "base_uri": "https://localhost:8080/",
          "height": 295
        },
        "id": "-Ckps_nKkT83",
        "outputId": "4792776e-cf29-4278-efea-857995da028f"
      },
      "execution_count": 40,
      "outputs": [
        {
          "output_type": "display_data",
          "data": {
            "text/plain": [
              "<Figure size 432x288 with 1 Axes>"
            ],
            "image/png": "[encoded data removed]"
          },
          "metadata": {
            "needs_background": "light"
          }
        }
      ]
    },
    {
      "cell_type": "code",
      "source": [
        "predictions = []\n",
        "for input in range(1000):  \n",
        "  print('\\r', input, end='')\n",
        "  x_im_in = np.reshape(x_test_imgs[input], (1, 224, 224, 3))\n",
        "  x_qu_in = np.reshape(x_test_questions[input], (1, 100))\n",
        "  test_output = fc_model.predict((x_im_in, x_qu_in))\n",
        "  class_id = np.argmax(test_output)\n",
        "  predictions.append(class_id)\n",
        "  "
      ],
      "metadata": {
        "colab": {
          "base_uri": "https://localhost:8080/",
          "height": 0
        },
        "id": "PfkvPAU_HarO",
        "outputId": "c33d4b2d-ba23-428d-b7f3-594b9907e3af"
      },
      "execution_count": 42,
      "outputs": [
        {
          "output_type": "stream",
          "name": "stdout",
          "text": [
            " 999"
          ]
        }
      ]
    },
    {
      "cell_type": "code",
      "source": [
        "prediction_text = []\n",
        "for prediction in predictions:\n",
        "  label_text = index_to_class.get(prediction)\n",
        "  prediction_text.append(label_text)\n"
      ],
      "metadata": {
        "id": "RwiONuAOH57n"
      },
      "execution_count": null,
      "outputs": []
    },
    {
      "cell_type": "code",
      "source": [
        "prediction_text_df = pd.DataFrame(prediction_text)\n",
        "prediction_text_df.to_csv(\"results.csv\", index=False, header=False)"
      ],
      "metadata": {
        "id": "eqFHiUnoChHC"
      },
      "execution_count": 45,
      "outputs": []
    },
    {
      "cell_type": "code",
      "source": [
        ""
      ],
      "metadata": {
        "id": "sBY24G1KtCJZ"
      },
      "execution_count": null,
      "outputs": []
    }
  ]
}